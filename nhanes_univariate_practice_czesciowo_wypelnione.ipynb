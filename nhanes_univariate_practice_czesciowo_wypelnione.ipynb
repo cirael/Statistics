{
 "cells": [
  {
   "cell_type": "markdown",
   "metadata": {},
   "source": [
    "# Practice notebook for univariate analysis using NHANES data\n",
    "\n",
    "This notebook will give you the opportunity to perform some univariate analyses on your own using the NHANES.  These analyses are similar to what was done in the week 2 NHANES case study notebook.\n",
    "\n",
    "You can enter your code into the cells that say \"enter your code here\", and you can type responses to the questions into the cells that say \"Type Markdown and Latex\".\n",
    "\n",
    "Note that most of the code that you will need to write below is very similar to code that appears in the case study notebook.  You will need to edit code from that notebook in small ways to adapt it to the prompts below.\n",
    "\n",
    "To get started, we will use the same module imports and read the data in the same way as we did in the case study:"
   ]
  },
  {
   "cell_type": "code",
   "execution_count": 91,
   "metadata": {},
   "outputs": [],
   "source": [
    "%matplotlib inline\n",
    "import matplotlib.pyplot as plt\n",
    "import seaborn as sns\n",
    "import pandas as pd\n",
    "import statsmodels.api as sm\n",
    "import numpy as np\n",
    "\n",
    "da = pd.read_csv(r\"D:\\GosiaW\\Private\\1_Kursy\\Statystyka\\nhanes_2015_2016.csv\")"
   ]
  },
  {
   "cell_type": "code",
   "execution_count": null,
   "metadata": {},
   "outputs": [],
   "source": []
  },
  {
   "cell_type": "markdown",
   "metadata": {},
   "source": [
    "## Question 1\n",
    "\n",
    "Relabel the marital status variable [DMDMARTL](https://wwwn.cdc.gov/Nchs/Nhanes/2015-2016/DEMO_I.htm#DMDMARTL) to have brief but informative character labels.  Then construct a frequency table of these values for all people, then for women only, and for men only.  Then construct these three frequency tables using only people whose age is between 30 and 40."
   ]
  },
  {
   "cell_type": "code",
   "execution_count": 92,
   "metadata": {},
   "outputs": [],
   "source": [
    "da['DMDMARTLx']= da['DMDMARTL'].replace({1: \"Married\", 2: \"Widowed\", 3: \"Divorced\", 4: \"Separated\", 5: \"Never_married\", 6: \"Living_with_partner\", 77: \"Refused\", 99: \"Don't_know\" })\n",
    "da['DMDMARTLx']= da['DMDMARTLx'].fillna(\"Missing\")"
   ]
  },
  {
   "cell_type": "code",
   "execution_count": 93,
   "metadata": {},
   "outputs": [
    {
     "data": {
      "text/plain": [
       "Married                2780\n",
       "Never_married          1004\n",
       "Divorced                579\n",
       "Living_with_partner     527\n",
       "Widowed                 396\n",
       "Missing                 261\n",
       "Separated               186\n",
       "Refused                   2\n",
       "Name: DMDMARTLx, dtype: int64"
      ]
     },
     "execution_count": 93,
     "metadata": {},
     "output_type": "execute_result"
    }
   ],
   "source": [
    "#Frequency table for all people\n",
    "da['DMDMARTLx'].value_counts()"
   ]
  },
  {
   "cell_type": "code",
   "execution_count": 94,
   "metadata": {},
   "outputs": [],
   "source": [
    "da[\"RIAGENDRx\"] = da.RIAGENDR.replace({1: \"Male\", 2: \"Female\"})\n",
    "#da.loc[:, [\"RIAGENDRx\",\"DMDMARTLx\"]].head(13)"
   ]
  },
  {
   "cell_type": "code",
   "execution_count": 95,
   "metadata": {},
   "outputs": [
    {
     "data": {
      "text/plain": [
       "Married                1303\n",
       "Never_married           520\n",
       "Divorced                350\n",
       "Widowed                 296\n",
       "Living_with_partner     262\n",
       "Missing                 126\n",
       "Separated               118\n",
       "Refused                   1\n",
       "Name: DMDMARTLx, dtype: int64"
      ]
     },
     "execution_count": 95,
     "metadata": {},
     "output_type": "execute_result"
    }
   ],
   "source": [
    "#Frequency table for women only\n",
    "f=da.loc[da[\"RIAGENDRx\"] == \"Female\", [\"DMDMARTLx\"]]\n",
    "f[\"DMDMARTLx\"].value_counts()"
   ]
  },
  {
   "cell_type": "code",
   "execution_count": 96,
   "metadata": {},
   "outputs": [
    {
     "data": {
      "text/plain": [
       "Married                1477\n",
       "Never_married           484\n",
       "Living_with_partner     265\n",
       "Divorced                229\n",
       "Missing                 135\n",
       "Widowed                 100\n",
       "Separated                68\n",
       "Refused                   1\n",
       "Name: DMDMARTLx, dtype: int64"
      ]
     },
     "execution_count": 96,
     "metadata": {},
     "output_type": "execute_result"
    }
   ],
   "source": [
    "#Frequency table for men only\n",
    "m=da.loc[da[\"RIAGENDRx\"] == \"Male\", [\"DMDMARTLx\"]]\n",
    "m[\"DMDMARTLx\"].value_counts()"
   ]
  },
  {
   "cell_type": "code",
   "execution_count": 97,
   "metadata": {},
   "outputs": [
    {
     "data": {
      "text/plain": [
       "0     (60.0, 70.0]\n",
       "1     (50.0, 60.0]\n",
       "2     (70.0, 80.0]\n",
       "3     (50.0, 60.0]\n",
       "4     (40.0, 50.0]\n",
       "5     (70.0, 80.0]\n",
       "6     (18.0, 30.0]\n",
       "7     (30.0, 40.0]\n",
       "8              NaN\n",
       "9     (50.0, 60.0]\n",
       "10    (40.0, 50.0]\n",
       "11    (40.0, 50.0]\n",
       "Name: agegrp, dtype: category\n",
       "Categories (6, interval[int64]): [(18, 30] < (30, 40] < (40, 50] < (50, 60] < (60, 70] < (70, 80]]"
      ]
     },
     "execution_count": 97,
     "metadata": {},
     "output_type": "execute_result"
    }
   ],
   "source": [
    "#dividing by agegroups\n",
    "da[\"agegrp\"] = pd.cut(da.RIDAGEYR, [18, 30, 40, 50, 60, 70, 80])\n",
    "da[\"agegrp\"].head(12)"
   ]
  },
  {
   "cell_type": "code",
   "execution_count": 98,
   "metadata": {},
   "outputs": [
    {
     "data": {
      "text/plain": [
       "agegrp    DMDMARTLx          \n",
       "(18, 30]  Never_married          521\n",
       "          Married                262\n",
       "          Living_with_partner    209\n",
       "          Missing                128\n",
       "          Separated               18\n",
       "          Divorced                13\n",
       "          Widowed                  2\n",
       "(30, 40]  Married                516\n",
       "          Never_married          186\n",
       "          Living_with_partner    129\n",
       "          Divorced                67\n",
       "          Separated               29\n",
       "          Widowed                  4\n",
       "          Refused                  1\n",
       "(40, 50]  Married                570\n",
       "          Divorced               103\n",
       "          Never_married          102\n",
       "          Living_with_partner     70\n",
       "          Separated               44\n",
       "          Widowed                 14\n",
       "(50, 60]  Married                553\n",
       "          Divorced               140\n",
       "          Never_married           89\n",
       "          Living_with_partner     66\n",
       "          Widowed                 38\n",
       "          Separated               37\n",
       "          Refused                  1\n",
       "(60, 70]  Married                503\n",
       "          Divorced               140\n",
       "          Widowed                 82\n",
       "          Never_married           76\n",
       "          Living_with_partner     41\n",
       "          Separated               36\n",
       "(70, 80]  Married                376\n",
       "          Widowed                256\n",
       "          Divorced               116\n",
       "          Never_married           30\n",
       "          Separated               22\n",
       "          Living_with_partner     12\n",
       "Name: DMDMARTLx, dtype: int64"
      ]
     },
     "execution_count": 98,
     "metadata": {},
     "output_type": "execute_result"
    }
   ],
   "source": [
    "x=da.groupby(\"agegrp\")[\"DMDMARTLx\"].value_counts()\n",
    "x"
   ]
  },
  {
   "cell_type": "code",
   "execution_count": 99,
   "metadata": {},
   "outputs": [
    {
     "data": {
      "text/html": [
       "<div>\n",
       "<style scoped>\n",
       "    .dataframe tbody tr th:only-of-type {\n",
       "        vertical-align: middle;\n",
       "    }\n",
       "\n",
       "    .dataframe tbody tr th {\n",
       "        vertical-align: top;\n",
       "    }\n",
       "\n",
       "    .dataframe thead th {\n",
       "        text-align: right;\n",
       "    }\n",
       "</style>\n",
       "<table border=\"1\" class=\"dataframe\">\n",
       "  <thead>\n",
       "    <tr style=\"text-align: right;\">\n",
       "      <th>DMDMARTLx</th>\n",
       "      <th>Divorced</th>\n",
       "      <th>Living_with_partner</th>\n",
       "      <th>Married</th>\n",
       "      <th>Missing</th>\n",
       "      <th>Never_married</th>\n",
       "      <th>Refused</th>\n",
       "      <th>Separated</th>\n",
       "      <th>Widowed</th>\n",
       "    </tr>\n",
       "    <tr>\n",
       "      <th>agegrp</th>\n",
       "      <th></th>\n",
       "      <th></th>\n",
       "      <th></th>\n",
       "      <th></th>\n",
       "      <th></th>\n",
       "      <th></th>\n",
       "      <th></th>\n",
       "      <th></th>\n",
       "    </tr>\n",
       "  </thead>\n",
       "  <tbody>\n",
       "    <tr>\n",
       "      <th>(18, 30]</th>\n",
       "      <td>13.0</td>\n",
       "      <td>209.0</td>\n",
       "      <td>262.0</td>\n",
       "      <td>128.0</td>\n",
       "      <td>521.0</td>\n",
       "      <td>NaN</td>\n",
       "      <td>18.0</td>\n",
       "      <td>2.0</td>\n",
       "    </tr>\n",
       "    <tr>\n",
       "      <th>(30, 40]</th>\n",
       "      <td>67.0</td>\n",
       "      <td>129.0</td>\n",
       "      <td>516.0</td>\n",
       "      <td>NaN</td>\n",
       "      <td>186.0</td>\n",
       "      <td>1.0</td>\n",
       "      <td>29.0</td>\n",
       "      <td>4.0</td>\n",
       "    </tr>\n",
       "    <tr>\n",
       "      <th>(40, 50]</th>\n",
       "      <td>103.0</td>\n",
       "      <td>70.0</td>\n",
       "      <td>570.0</td>\n",
       "      <td>NaN</td>\n",
       "      <td>102.0</td>\n",
       "      <td>NaN</td>\n",
       "      <td>44.0</td>\n",
       "      <td>14.0</td>\n",
       "    </tr>\n",
       "    <tr>\n",
       "      <th>(50, 60]</th>\n",
       "      <td>140.0</td>\n",
       "      <td>66.0</td>\n",
       "      <td>553.0</td>\n",
       "      <td>NaN</td>\n",
       "      <td>89.0</td>\n",
       "      <td>1.0</td>\n",
       "      <td>37.0</td>\n",
       "      <td>38.0</td>\n",
       "    </tr>\n",
       "    <tr>\n",
       "      <th>(60, 70]</th>\n",
       "      <td>140.0</td>\n",
       "      <td>41.0</td>\n",
       "      <td>503.0</td>\n",
       "      <td>NaN</td>\n",
       "      <td>76.0</td>\n",
       "      <td>NaN</td>\n",
       "      <td>36.0</td>\n",
       "      <td>82.0</td>\n",
       "    </tr>\n",
       "    <tr>\n",
       "      <th>(70, 80]</th>\n",
       "      <td>116.0</td>\n",
       "      <td>12.0</td>\n",
       "      <td>376.0</td>\n",
       "      <td>NaN</td>\n",
       "      <td>30.0</td>\n",
       "      <td>NaN</td>\n",
       "      <td>22.0</td>\n",
       "      <td>256.0</td>\n",
       "    </tr>\n",
       "  </tbody>\n",
       "</table>\n",
       "</div>"
      ],
      "text/plain": [
       "DMDMARTLx  Divorced  Living_with_partner  Married  Missing  Never_married  \\\n",
       "agegrp                                                                      \n",
       "(18, 30]       13.0                209.0    262.0    128.0          521.0   \n",
       "(30, 40]       67.0                129.0    516.0      NaN          186.0   \n",
       "(40, 50]      103.0                 70.0    570.0      NaN          102.0   \n",
       "(50, 60]      140.0                 66.0    553.0      NaN           89.0   \n",
       "(60, 70]      140.0                 41.0    503.0      NaN           76.0   \n",
       "(70, 80]      116.0                 12.0    376.0      NaN           30.0   \n",
       "\n",
       "DMDMARTLx  Refused  Separated  Widowed  \n",
       "agegrp                                  \n",
       "(18, 30]       NaN       18.0      2.0  \n",
       "(30, 40]       1.0       29.0      4.0  \n",
       "(40, 50]       NaN       44.0     14.0  \n",
       "(50, 60]       1.0       37.0     38.0  \n",
       "(60, 70]       NaN       36.0     82.0  \n",
       "(70, 80]       NaN       22.0    256.0  "
      ]
     },
     "execution_count": 99,
     "metadata": {},
     "output_type": "execute_result"
    }
   ],
   "source": [
    "x1=x.unstack()\n",
    "x1"
   ]
  },
  {
   "cell_type": "code",
   "execution_count": 100,
   "metadata": {},
   "outputs": [
    {
     "data": {
      "text/plain": [
       "DMDMARTLx\n",
       "Married                516.0\n",
       "Never_married          186.0\n",
       "Living_with_partner    129.0\n",
       "Divorced                67.0\n",
       "Separated               29.0\n",
       "Widowed                  4.0\n",
       "Refused                  1.0\n",
       "Missing                  NaN\n",
       "Name: (30, 40], dtype: float64"
      ]
     },
     "execution_count": 100,
     "metadata": {},
     "output_type": "execute_result"
    }
   ],
   "source": [
    "#frequency table for (30,40] age group, for both sexes\n",
    "x2=x1.iloc[1,:]\n",
    "x2.sort_values(ascending=False)"
   ]
  },
  {
   "cell_type": "code",
   "execution_count": 101,
   "metadata": {},
   "outputs": [
    {
     "data": {
      "text/plain": [
       "DMDMARTLx\n",
       "Married                258.0\n",
       "Never_married           97.0\n",
       "Living_with_partner     57.0\n",
       "Divorced                43.0\n",
       "Separated               17.0\n",
       "Widowed                  2.0\n",
       "Missing                  NaN\n",
       "Refused                  NaN\n",
       "Name: (30, 40], dtype: float64"
      ]
     },
     "execution_count": 101,
     "metadata": {},
     "output_type": "execute_result"
    }
   ],
   "source": [
    "fem_age=da.loc[da[\"RIAGENDRx\"] == \"Female\", [\"DMDMARTLx\", \"RIDAGEYR\"]]\n",
    "fem_age[\"agegrp\"] = pd.cut(fem_age.RIDAGEYR, [18, 30, 40, 50, 60, 70, 80])\n",
    "fem_age_groups=fem_age.groupby(\"agegrp\")[\"DMDMARTLx\"].value_counts()\n",
    "f1=fem_age_groups.unstack()\n",
    "f2=f1.iloc[1,:]\n",
    "f2.sort_values(ascending=False)"
   ]
  },
  {
   "cell_type": "code",
   "execution_count": 102,
   "metadata": {},
   "outputs": [
    {
     "data": {
      "text/plain": [
       "DMDMARTLx\n",
       "Married                258.0\n",
       "Never_married           89.0\n",
       "Living_with_partner     72.0\n",
       "Divorced                24.0\n",
       "Separated               12.0\n",
       "Widowed                  2.0\n",
       "Refused                  1.0\n",
       "Missing                  NaN\n",
       "Name: (30, 40], dtype: float64"
      ]
     },
     "execution_count": 102,
     "metadata": {},
     "output_type": "execute_result"
    }
   ],
   "source": [
    "men_age=da.loc[da[\"RIAGENDRx\"] == \"Male\", [\"DMDMARTLx\", \"RIDAGEYR\"]]\n",
    "men_age[\"agegrp\"] = pd.cut(men_age.RIDAGEYR, [18, 30, 40, 50, 60, 70, 80])\n",
    "men_age_groups=men_age.groupby(\"agegrp\")[\"DMDMARTLx\"].value_counts()\n",
    "m1=men_age_groups.unstack()\n",
    "m2=m1.iloc[1,:]\n",
    "m2.sort_values(ascending=False)"
   ]
  },
  {
   "cell_type": "code",
   "execution_count": null,
   "metadata": {},
   "outputs": [],
   "source": []
  },
  {
   "cell_type": "markdown",
   "metadata": {},
   "source": [
    "__Q1a.__ Briefly comment on some of the differences that you observe between the distribution of marital status between women and men, for people of all ages."
   ]
  },
  {
   "cell_type": "code",
   "execution_count": 103,
   "metadata": {},
   "outputs": [
    {
     "data": {
      "text/html": [
       "<div>\n",
       "<style scoped>\n",
       "    .dataframe tbody tr th:only-of-type {\n",
       "        vertical-align: middle;\n",
       "    }\n",
       "\n",
       "    .dataframe tbody tr th {\n",
       "        vertical-align: top;\n",
       "    }\n",
       "\n",
       "    .dataframe thead th {\n",
       "        text-align: right;\n",
       "    }\n",
       "</style>\n",
       "<table border=\"1\" class=\"dataframe\">\n",
       "  <thead>\n",
       "    <tr style=\"text-align: right;\">\n",
       "      <th></th>\n",
       "      <th>Martial_stat_fem</th>\n",
       "      <th>Martial_stat_male</th>\n",
       "    </tr>\n",
       "  </thead>\n",
       "  <tbody>\n",
       "    <tr>\n",
       "      <th>Married</th>\n",
       "      <td>1303</td>\n",
       "      <td>1477</td>\n",
       "    </tr>\n",
       "    <tr>\n",
       "      <th>Never_married</th>\n",
       "      <td>520</td>\n",
       "      <td>484</td>\n",
       "    </tr>\n",
       "    <tr>\n",
       "      <th>Divorced</th>\n",
       "      <td>350</td>\n",
       "      <td>229</td>\n",
       "    </tr>\n",
       "    <tr>\n",
       "      <th>Widowed</th>\n",
       "      <td>296</td>\n",
       "      <td>100</td>\n",
       "    </tr>\n",
       "    <tr>\n",
       "      <th>Living_with_partner</th>\n",
       "      <td>262</td>\n",
       "      <td>265</td>\n",
       "    </tr>\n",
       "    <tr>\n",
       "      <th>Separated</th>\n",
       "      <td>118</td>\n",
       "      <td>68</td>\n",
       "    </tr>\n",
       "  </tbody>\n",
       "</table>\n",
       "</div>"
      ],
      "text/plain": [
       "                     Martial_stat_fem  Martial_stat_male\n",
       "Married                          1303               1477\n",
       "Never_married                     520                484\n",
       "Divorced                          350                229\n",
       "Widowed                           296                100\n",
       "Living_with_partner               262                265\n",
       "Separated                         118                 68"
      ]
     },
     "execution_count": 103,
     "metadata": {},
     "output_type": "execute_result"
    }
   ],
   "source": [
    "f_vc=f[\"DMDMARTLx\"].value_counts()\n",
    "m_vc=m[\"DMDMARTLx\"].value_counts()\n",
    "combined_f_m=pd.concat([f_vc,m_vc], axis=1, keys=['Martial_stat_fem', 'Martial_stat_male'], sort=True)\n",
    "sorted_frame=combined_f_m.sort_values(by=\"Martial_stat_fem\", ascending=False)\n",
    "distr=sorted_frame.drop(index=['Missing','Refused'])\n",
    "distr"
   ]
  },
  {
   "cell_type": "code",
   "execution_count": 104,
   "metadata": {},
   "outputs": [
    {
     "name": "stdout",
     "output_type": "stream",
     "text": [
      "Number of females in dataset: 2849\n",
      "Number of males in dataset: 2623\n"
     ]
    }
   ],
   "source": [
    "print(\"Number of females in dataset:\", distr[\"Martial_stat_fem\"].sum())\n",
    "print(\"Number of males in dataset:\", distr[\"Martial_stat_male\"].sum())"
   ]
  },
  {
   "cell_type": "code",
   "execution_count": null,
   "metadata": {},
   "outputs": [],
   "source": []
  },
  {
   "cell_type": "code",
   "execution_count": 105,
   "metadata": {},
   "outputs": [
    {
     "data": {
      "image/png": "[encoded data removed]",
      "text/plain": [
       "<Figure size 720x360 with 1 Axes>"
      ]
     },
     "metadata": {
      "needs_background": "light"
     },
     "output_type": "display_data"
    }
   ],
   "source": [
    "labels = distr.index\n",
    "females = distr[\"Martial_stat_fem\"]\n",
    "males = distr[\"Martial_stat_male\"]\n",
    "\n",
    "x = np.arange(len(labels))  # the label locations\n",
    "width = 0.35  # the width of the bars\n",
    "\n",
    "fig, ax = plt.subplots(figsize=(10, 5))\n",
    "rects1 = ax.bar(x - width/2, females, width, label='Females')\n",
    "rects2 = ax.bar(x + width/2, males, width, label='Males')\n",
    "\n",
    "# Add some text for labels, title and custom x-axis tick labels, etc.\n",
    "ax.set_ylabel('Scores')\n",
    "ax.set_title('Scores by gender')\n",
    "ax.set_xticks(x)\n",
    "ax.set_xticklabels(labels)\n",
    "ax.legend()\n",
    "\n",
    "\n",
    "def autolabel(rects):\n",
    "    \"\"\"Attach a text label above each bar in *rects*, displaying its height.\"\"\"\n",
    "    for rect in rects:\n",
    "        height = rect.get_height()\n",
    "        ax.annotate('{}'.format(height),\n",
    "                    xy=(rect.get_x() + rect.get_width() / 2, height),\n",
    "                    xytext=(0, 3),  # 3 points vertical offset\n",
    "                    textcoords=\"offset points\",\n",
    "                    ha='center', va='bottom')\n",
    "\n",
    "\n",
    "autolabel(rects1)\n",
    "autolabel(rects2)\n",
    "\n",
    "fig.tight_layout()\n",
    "\n",
    "plt.show()"
   ]
  },
  {
   "cell_type": "code",
   "execution_count": 106,
   "metadata": {},
   "outputs": [
    {
     "data": {
      "text/html": [
       "<div>\n",
       "<style scoped>\n",
       "    .dataframe tbody tr th:only-of-type {\n",
       "        vertical-align: middle;\n",
       "    }\n",
       "\n",
       "    .dataframe tbody tr th {\n",
       "        vertical-align: top;\n",
       "    }\n",
       "\n",
       "    .dataframe thead th {\n",
       "        text-align: right;\n",
       "    }\n",
       "</style>\n",
       "<table border=\"1\" class=\"dataframe\">\n",
       "  <thead>\n",
       "    <tr style=\"text-align: right;\">\n",
       "      <th></th>\n",
       "      <th>Martial_stat_fem_%</th>\n",
       "      <th>Martial_stat_male_%</th>\n",
       "    </tr>\n",
       "  </thead>\n",
       "  <tbody>\n",
       "    <tr>\n",
       "      <th>Married</th>\n",
       "      <td>45.7</td>\n",
       "      <td>56.3</td>\n",
       "    </tr>\n",
       "    <tr>\n",
       "      <th>Never_married</th>\n",
       "      <td>18.3</td>\n",
       "      <td>18.5</td>\n",
       "    </tr>\n",
       "    <tr>\n",
       "      <th>Divorced</th>\n",
       "      <td>12.3</td>\n",
       "      <td>8.7</td>\n",
       "    </tr>\n",
       "    <tr>\n",
       "      <th>Widowed</th>\n",
       "      <td>10.4</td>\n",
       "      <td>3.8</td>\n",
       "    </tr>\n",
       "    <tr>\n",
       "      <th>Living_with_partner</th>\n",
       "      <td>9.2</td>\n",
       "      <td>10.1</td>\n",
       "    </tr>\n",
       "    <tr>\n",
       "      <th>Separated</th>\n",
       "      <td>4.1</td>\n",
       "      <td>2.6</td>\n",
       "    </tr>\n",
       "  </tbody>\n",
       "</table>\n",
       "</div>"
      ],
      "text/plain": [
       "                     Martial_stat_fem_%  Martial_stat_male_%\n",
       "Married                            45.7                 56.3\n",
       "Never_married                      18.3                 18.5\n",
       "Divorced                           12.3                  8.7\n",
       "Widowed                            10.4                  3.8\n",
       "Living_with_partner                 9.2                 10.1\n",
       "Separated                           4.1                  2.6"
      ]
     },
     "execution_count": 106,
     "metadata": {},
     "output_type": "execute_result"
    }
   ],
   "source": [
    "#Dane bezwzględne trudne do porównania - trzeba znormalizować\n",
    "norm = distr.apply(lambda x: x/x.sum()*100, axis=0)\n",
    "norm = norm.round(1)\n",
    "norm = norm.rename(columns={\"Martial_stat_fem\": \"Martial_stat_fem_%\", \"Martial_stat_male\": \"Martial_stat_male_%\"})\n",
    "norm"
   ]
  },
  {
   "cell_type": "code",
   "execution_count": 107,
   "metadata": {},
   "outputs": [
    {
     "data": {
      "image/png": "[encoded data removed]",
      "text/plain": [
       "<Figure size 720x360 with 1 Axes>"
      ]
     },
     "metadata": {
      "needs_background": "light"
     },
     "output_type": "display_data"
    }
   ],
   "source": [
    "labels = norm.index\n",
    "females = norm[\"Martial_stat_fem_%\"]\n",
    "males = norm[\"Martial_stat_male_%\"]\n",
    "\n",
    "x = np.arange(len(labels))  # the label locations\n",
    "width = 0.35  # the width of the bars\n",
    "\n",
    "fig, ax = plt.subplots(figsize=(10, 5))\n",
    "rects1 = ax.bar(x - width/2, females, width, label='Females %')\n",
    "rects2 = ax.bar(x + width/2, males, width, label='Males %')\n",
    "\n",
    "# Add some text for labels, title and custom x-axis tick labels, etc.\n",
    "ax.set_ylabel('Percent')\n",
    "ax.set_title('Percent by gender')\n",
    "ax.set_xticks(x)\n",
    "ax.set_xticklabels(labels)\n",
    "ax.legend()\n",
    "\n",
    "\n",
    "def autolabel(rects):\n",
    "    \"\"\"Attach a text label above each bar in *rects*, displaying its height.\"\"\"\n",
    "    for rect in rects:\n",
    "        height = rect.get_height()\n",
    "        ax.annotate('{}'.format(height),\n",
    "                    xy=(rect.get_x() + rect.get_width() / 2, height),\n",
    "                    xytext=(0, 3),  # 3 points vertical offset\n",
    "                    textcoords=\"offset points\",\n",
    "                    ha='center', va='bottom')\n",
    "\n",
    "\n",
    "autolabel(rects1)\n",
    "autolabel(rects2)\n",
    "\n",
    "fig.tight_layout()\n",
    "\n",
    "plt.show()"
   ]
  },
  {
   "cell_type": "markdown",
   "metadata": {},
   "source": []
  },
  {
   "cell_type": "code",
   "execution_count": null,
   "metadata": {},
   "outputs": [],
   "source": []
  },
  {
   "cell_type": "markdown",
   "metadata": {},
   "source": [
    "__Q1b.__ Briefly comment on the differences that you observe between the distribution of marital status states for women between the overall population, and for women between the ages of 30 and 40."
   ]
  },
  {
   "cell_type": "code",
   "execution_count": 108,
   "metadata": {},
   "outputs": [
    {
     "data": {
      "text/html": [
       "<div>\n",
       "<style scoped>\n",
       "    .dataframe tbody tr th:only-of-type {\n",
       "        vertical-align: middle;\n",
       "    }\n",
       "\n",
       "    .dataframe tbody tr th {\n",
       "        vertical-align: top;\n",
       "    }\n",
       "\n",
       "    .dataframe thead th {\n",
       "        text-align: right;\n",
       "    }\n",
       "</style>\n",
       "<table border=\"1\" class=\"dataframe\">\n",
       "  <thead>\n",
       "    <tr style=\"text-align: right;\">\n",
       "      <th></th>\n",
       "      <th>Martial_stat_fem</th>\n",
       "      <th>Martial_stat_fem_30_40</th>\n",
       "    </tr>\n",
       "  </thead>\n",
       "  <tbody>\n",
       "    <tr>\n",
       "      <th>Married</th>\n",
       "      <td>1303</td>\n",
       "      <td>258.0</td>\n",
       "    </tr>\n",
       "    <tr>\n",
       "      <th>Never_married</th>\n",
       "      <td>520</td>\n",
       "      <td>97.0</td>\n",
       "    </tr>\n",
       "    <tr>\n",
       "      <th>Divorced</th>\n",
       "      <td>350</td>\n",
       "      <td>43.0</td>\n",
       "    </tr>\n",
       "    <tr>\n",
       "      <th>Widowed</th>\n",
       "      <td>296</td>\n",
       "      <td>2.0</td>\n",
       "    </tr>\n",
       "    <tr>\n",
       "      <th>Living_with_partner</th>\n",
       "      <td>262</td>\n",
       "      <td>57.0</td>\n",
       "    </tr>\n",
       "    <tr>\n",
       "      <th>Separated</th>\n",
       "      <td>118</td>\n",
       "      <td>17.0</td>\n",
       "    </tr>\n",
       "  </tbody>\n",
       "</table>\n",
       "</div>"
      ],
      "text/plain": [
       "                     Martial_stat_fem  Martial_stat_fem_30_40\n",
       "Married                          1303                   258.0\n",
       "Never_married                     520                    97.0\n",
       "Divorced                          350                    43.0\n",
       "Widowed                           296                     2.0\n",
       "Living_with_partner               262                    57.0\n",
       "Separated                         118                    17.0"
      ]
     },
     "execution_count": 108,
     "metadata": {},
     "output_type": "execute_result"
    }
   ],
   "source": [
    "f_vc=f[\"DMDMARTLx\"].value_counts()\n",
    "f_age=f2.sort_values(ascending=False)\n",
    "combined_f_fem_age=pd.concat([f_vc,f_age], axis=1, keys=['Martial_stat_fem', 'Martial_stat_fem_30_40'], sort=True)\n",
    "combined_f_fem_age=combined_f_fem_age.sort_values(by=\"Martial_stat_fem\", ascending=False)\n",
    "distr_fem=combined_f_fem_age.drop(index=['Missing','Refused'])\n",
    "distr_fem"
   ]
  },
  {
   "cell_type": "code",
   "execution_count": 109,
   "metadata": {},
   "outputs": [
    {
     "data": {
      "text/html": [
       "<div>\n",
       "<style scoped>\n",
       "    .dataframe tbody tr th:only-of-type {\n",
       "        vertical-align: middle;\n",
       "    }\n",
       "\n",
       "    .dataframe tbody tr th {\n",
       "        vertical-align: top;\n",
       "    }\n",
       "\n",
       "    .dataframe thead th {\n",
       "        text-align: right;\n",
       "    }\n",
       "</style>\n",
       "<table border=\"1\" class=\"dataframe\">\n",
       "  <thead>\n",
       "    <tr style=\"text-align: right;\">\n",
       "      <th></th>\n",
       "      <th>Martial_stat_fem_%</th>\n",
       "      <th>Martial_stat_fem_30_40_%</th>\n",
       "    </tr>\n",
       "  </thead>\n",
       "  <tbody>\n",
       "    <tr>\n",
       "      <th>Married</th>\n",
       "      <td>45.7</td>\n",
       "      <td>54.4</td>\n",
       "    </tr>\n",
       "    <tr>\n",
       "      <th>Never_married</th>\n",
       "      <td>18.3</td>\n",
       "      <td>20.5</td>\n",
       "    </tr>\n",
       "    <tr>\n",
       "      <th>Divorced</th>\n",
       "      <td>12.3</td>\n",
       "      <td>9.1</td>\n",
       "    </tr>\n",
       "    <tr>\n",
       "      <th>Widowed</th>\n",
       "      <td>10.4</td>\n",
       "      <td>0.4</td>\n",
       "    </tr>\n",
       "    <tr>\n",
       "      <th>Living_with_partner</th>\n",
       "      <td>9.2</td>\n",
       "      <td>12.0</td>\n",
       "    </tr>\n",
       "    <tr>\n",
       "      <th>Separated</th>\n",
       "      <td>4.1</td>\n",
       "      <td>3.6</td>\n",
       "    </tr>\n",
       "  </tbody>\n",
       "</table>\n",
       "</div>"
      ],
      "text/plain": [
       "                     Martial_stat_fem_%  Martial_stat_fem_30_40_%\n",
       "Married                            45.7                      54.4\n",
       "Never_married                      18.3                      20.5\n",
       "Divorced                           12.3                       9.1\n",
       "Widowed                            10.4                       0.4\n",
       "Living_with_partner                 9.2                      12.0\n",
       "Separated                           4.1                       3.6"
      ]
     },
     "execution_count": 109,
     "metadata": {},
     "output_type": "execute_result"
    }
   ],
   "source": [
    "norm_fem = distr_fem.apply(lambda x: x/x.sum()*100, axis=0)\n",
    "norm_fem = norm_fem.round(1)\n",
    "norm_fem = norm_fem.rename(columns={\"Martial_stat_fem\": \"Martial_stat_fem_%\", \"Martial_stat_fem_30_40\": \"Martial_stat_fem_30_40_%\"})\n",
    "norm_fem"
   ]
  },
  {
   "cell_type": "code",
   "execution_count": 110,
   "metadata": {},
   "outputs": [
    {
     "data": {
      "image/png": "[encoded data removed]",
      "text/plain": [
       "<Figure size 720x360 with 1 Axes>"
      ]
     },
     "metadata": {
      "needs_background": "light"
     },
     "output_type": "display_data"
    }
   ],
   "source": [
    "labels = norm_fem.index\n",
    "all_females = norm_fem[\"Martial_stat_fem_%\"]\n",
    "females_30_40 = norm_fem[\"Martial_stat_fem_30_40_%\"]\n",
    "\n",
    "x = np.arange(len(labels))  # the label locations\n",
    "width = 0.35  # the width of the bars\n",
    "\n",
    "fig, ax = plt.subplots(figsize=(10, 5))\n",
    "rects1 = ax.bar(x - width/2, all_females, width, label='Females %')\n",
    "rects2 = ax.bar(x + width/2, females_30_40, width, label='Females age group 30-40 %')\n",
    "\n",
    "# Add some text for labels, title and custom x-axis tick labels, etc.\n",
    "ax.set_ylabel('Percent')\n",
    "ax.set_title('Percent by age group')\n",
    "ax.set_xticks(x)\n",
    "ax.set_xticklabels(labels)\n",
    "ax.legend()\n",
    "\n",
    "\n",
    "def autolabel(rects):\n",
    "    \"\"\"Attach a text label above each bar in *rects*, displaying its height.\"\"\"\n",
    "    for rect in rects:\n",
    "        height = rect.get_height()\n",
    "        ax.annotate('{}'.format(height),\n",
    "                    xy=(rect.get_x() + rect.get_width() / 2, height),\n",
    "                    xytext=(0, 3),  # 3 points vertical offset\n",
    "                    textcoords=\"offset points\",\n",
    "                    ha='center', va='bottom')\n",
    "\n",
    "\n",
    "autolabel(rects1)\n",
    "autolabel(rects2)\n",
    "\n",
    "fig.tight_layout()\n",
    "\n",
    "plt.show()"
   ]
  },
  {
   "cell_type": "markdown",
   "metadata": {},
   "source": [
    "__Q1c.__ Repeat part b for the men."
   ]
  },
  {
   "cell_type": "code",
   "execution_count": 111,
   "metadata": {},
   "outputs": [
    {
     "data": {
      "text/html": [
       "<div>\n",
       "<style scoped>\n",
       "    .dataframe tbody tr th:only-of-type {\n",
       "        vertical-align: middle;\n",
       "    }\n",
       "\n",
       "    .dataframe tbody tr th {\n",
       "        vertical-align: top;\n",
       "    }\n",
       "\n",
       "    .dataframe thead th {\n",
       "        text-align: right;\n",
       "    }\n",
       "</style>\n",
       "<table border=\"1\" class=\"dataframe\">\n",
       "  <thead>\n",
       "    <tr style=\"text-align: right;\">\n",
       "      <th></th>\n",
       "      <th>Martial_stat_men_%</th>\n",
       "      <th>Martial_stat_men_30_40_%</th>\n",
       "    </tr>\n",
       "  </thead>\n",
       "  <tbody>\n",
       "    <tr>\n",
       "      <th>Married</th>\n",
       "      <td>56.3</td>\n",
       "      <td>56.5</td>\n",
       "    </tr>\n",
       "    <tr>\n",
       "      <th>Never_married</th>\n",
       "      <td>18.5</td>\n",
       "      <td>19.5</td>\n",
       "    </tr>\n",
       "    <tr>\n",
       "      <th>Living_with_partner</th>\n",
       "      <td>10.1</td>\n",
       "      <td>15.8</td>\n",
       "    </tr>\n",
       "    <tr>\n",
       "      <th>Divorced</th>\n",
       "      <td>8.7</td>\n",
       "      <td>5.3</td>\n",
       "    </tr>\n",
       "    <tr>\n",
       "      <th>Widowed</th>\n",
       "      <td>3.8</td>\n",
       "      <td>0.4</td>\n",
       "    </tr>\n",
       "    <tr>\n",
       "      <th>Separated</th>\n",
       "      <td>2.6</td>\n",
       "      <td>2.6</td>\n",
       "    </tr>\n",
       "  </tbody>\n",
       "</table>\n",
       "</div>"
      ],
      "text/plain": [
       "                     Martial_stat_men_%  Martial_stat_men_30_40_%\n",
       "Married                            56.3                      56.5\n",
       "Never_married                      18.5                      19.5\n",
       "Living_with_partner                10.1                      15.8\n",
       "Divorced                            8.7                       5.3\n",
       "Widowed                             3.8                       0.4\n",
       "Separated                           2.6                       2.6"
      ]
     },
     "execution_count": 111,
     "metadata": {},
     "output_type": "execute_result"
    }
   ],
   "source": [
    "m_vc=m[\"DMDMARTLx\"].value_counts()\n",
    "m_age=m2.sort_values(ascending=False)\n",
    "combined_m_m_age=pd.concat([m_vc,m_age], axis=1, keys=['Martial_stat_men', 'Martial_stat_men_30_40'], sort=True)\n",
    "combined_m_m_age=combined_m_m_age.sort_values(by=\"Martial_stat_men\", ascending=False)\n",
    "distr_men=combined_m_m_age.drop(index=['Missing','Refused'])\n",
    "norm_men = distr_men.apply(lambda x: x/x.sum()*100, axis=0)\n",
    "norm_men = norm_men.round(1)\n",
    "norm_men = norm_men.rename(columns={\"Martial_stat_men\": \"Martial_stat_men_%\", \"Martial_stat_men_30_40\": \"Martial_stat_men_30_40_%\"})\n",
    "norm_men"
   ]
  },
  {
   "cell_type": "code",
   "execution_count": 112,
   "metadata": {},
   "outputs": [
    {
     "data": {
      "image/png": "[encoded data removed]",
      "text/plain": [
       "<Figure size 720x360 with 1 Axes>"
      ]
     },
     "metadata": {
      "needs_background": "light"
     },
     "output_type": "display_data"
    }
   ],
   "source": [
    "labels = norm_men.index\n",
    "all_males = norm_men[\"Martial_stat_men_%\"]\n",
    "males_30_40 = norm_men[\"Martial_stat_men_30_40_%\"]\n",
    "\n",
    "x = np.arange(len(labels))  # the label locations\n",
    "width = 0.35  # the width of the bars\n",
    "\n",
    "fig, ax = plt.subplots(figsize=(10, 5))\n",
    "rects1 = ax.bar(x - width/2, all_males, width, label='Males all age group %')\n",
    "rects2 = ax.bar(x + width/2, males_30_40, width, label='Males age group 30-40 %')\n",
    "\n",
    "# Add some text for labels, title and custom x-axis tick labels, etc.\n",
    "ax.set_ylabel('Percent')\n",
    "ax.set_title('Percent by age group')\n",
    "ax.set_xticks(x)\n",
    "ax.set_xticklabels(labels)\n",
    "ax.legend()\n",
    "\n",
    "\n",
    "def autolabel(rects):\n",
    "    \"\"\"Attach a text label above each bar in *rects*, displaying its height.\"\"\"\n",
    "    for rect in rects:\n",
    "        height = rect.get_height()\n",
    "        ax.annotate('{}'.format(height),\n",
    "                    xy=(rect.get_x() + rect.get_width() / 2, height),\n",
    "                    xytext=(0, 3),  # 3 points vertical offset\n",
    "                    textcoords=\"offset points\",\n",
    "                    ha='center', va='bottom')\n",
    "\n",
    "\n",
    "autolabel(rects1)\n",
    "autolabel(rects2)\n",
    "\n",
    "fig.tight_layout()\n",
    "\n",
    "plt.show()"
   ]
  },
  {
   "cell_type": "markdown",
   "metadata": {},
   "source": [
    "## Question 2\n",
    "\n",
    "Restricting to the female population, stratify the subjects into age bands no wider than ten years, and construct the distribution of marital status within each age band.  Within each age band, present the distribution in terms of proportions that must sum to 1."
   ]
  },
  {
   "cell_type": "code",
   "execution_count": 113,
   "metadata": {},
   "outputs": [
    {
     "data": {
      "text/html": [
       "<div>\n",
       "<style scoped>\n",
       "    .dataframe tbody tr th:only-of-type {\n",
       "        vertical-align: middle;\n",
       "    }\n",
       "\n",
       "    .dataframe tbody tr th {\n",
       "        vertical-align: top;\n",
       "    }\n",
       "\n",
       "    .dataframe thead th {\n",
       "        text-align: right;\n",
       "    }\n",
       "</style>\n",
       "<table border=\"1\" class=\"dataframe\">\n",
       "  <thead>\n",
       "    <tr style=\"text-align: right;\">\n",
       "      <th>DMDMARTLx</th>\n",
       "      <th>Divorced</th>\n",
       "      <th>Living_with_partner</th>\n",
       "      <th>Married</th>\n",
       "      <th>Never_married</th>\n",
       "      <th>Separated</th>\n",
       "      <th>Widowed</th>\n",
       "    </tr>\n",
       "    <tr>\n",
       "      <th>agegrp</th>\n",
       "      <th></th>\n",
       "      <th></th>\n",
       "      <th></th>\n",
       "      <th></th>\n",
       "      <th></th>\n",
       "      <th></th>\n",
       "    </tr>\n",
       "  </thead>\n",
       "  <tbody>\n",
       "    <tr>\n",
       "      <th>(18, 30]</th>\n",
       "      <td>0.020</td>\n",
       "      <td>0.206</td>\n",
       "      <td>0.286</td>\n",
       "      <td>0.468</td>\n",
       "      <td>0.020</td>\n",
       "      <td>0.000</td>\n",
       "    </tr>\n",
       "    <tr>\n",
       "      <th>(30, 40]</th>\n",
       "      <td>0.091</td>\n",
       "      <td>0.120</td>\n",
       "      <td>0.544</td>\n",
       "      <td>0.205</td>\n",
       "      <td>0.036</td>\n",
       "      <td>0.004</td>\n",
       "    </tr>\n",
       "    <tr>\n",
       "      <th>(40, 50]</th>\n",
       "      <td>0.137</td>\n",
       "      <td>0.074</td>\n",
       "      <td>0.574</td>\n",
       "      <td>0.125</td>\n",
       "      <td>0.066</td>\n",
       "      <td>0.024</td>\n",
       "    </tr>\n",
       "    <tr>\n",
       "      <th>(50, 60]</th>\n",
       "      <td>0.177</td>\n",
       "      <td>0.068</td>\n",
       "      <td>0.548</td>\n",
       "      <td>0.090</td>\n",
       "      <td>0.058</td>\n",
       "      <td>0.060</td>\n",
       "    </tr>\n",
       "    <tr>\n",
       "      <th>(60, 70]</th>\n",
       "      <td>0.193</td>\n",
       "      <td>0.043</td>\n",
       "      <td>0.481</td>\n",
       "      <td>0.086</td>\n",
       "      <td>0.050</td>\n",
       "      <td>0.147</td>\n",
       "    </tr>\n",
       "    <tr>\n",
       "      <th>(70, 80]</th>\n",
       "      <td>0.144</td>\n",
       "      <td>0.007</td>\n",
       "      <td>0.317</td>\n",
       "      <td>0.051</td>\n",
       "      <td>0.020</td>\n",
       "      <td>0.461</td>\n",
       "    </tr>\n",
       "  </tbody>\n",
       "</table>\n",
       "</div>"
      ],
      "text/plain": [
       "DMDMARTLx  Divorced  Living_with_partner  Married  Never_married  Separated  \\\n",
       "agegrp                                                                        \n",
       "(18, 30]      0.020                0.206    0.286          0.468      0.020   \n",
       "(30, 40]      0.091                0.120    0.544          0.205      0.036   \n",
       "(40, 50]      0.137                0.074    0.574          0.125      0.066   \n",
       "(50, 60]      0.177                0.068    0.548          0.090      0.058   \n",
       "(60, 70]      0.193                0.043    0.481          0.086      0.050   \n",
       "(70, 80]      0.144                0.007    0.317          0.051      0.020   \n",
       "\n",
       "DMDMARTLx  Widowed  \n",
       "agegrp              \n",
       "(18, 30]     0.000  \n",
       "(30, 40]     0.004  \n",
       "(40, 50]     0.024  \n",
       "(50, 60]     0.060  \n",
       "(60, 70]     0.147  \n",
       "(70, 80]     0.461  "
      ]
     },
     "execution_count": 113,
     "metadata": {},
     "output_type": "execute_result"
    }
   ],
   "source": [
    "fem_age=da.loc[da[\"RIAGENDRx\"] == \"Female\", [\"DMDMARTLx\", \"RIDAGEYR\"]]\n",
    "fem_age[\"agegrp\"] = pd.cut(fem_age.RIDAGEYR, [18, 30, 40, 50, 60, 70, 80])\n",
    "fem_age_groups=fem_age.groupby(\"agegrp\")[\"DMDMARTLx\"].value_counts()\n",
    "fem_age_groups\n",
    "f1=fem_age_groups.unstack()\n",
    "f1=f1.drop(columns=[\"Missing\",\"Refused\"])\n",
    "f1=f1.fillna(0)\n",
    "norm_f1 = f1.apply(lambda x: x/x.sum(), axis=1)\n",
    "norm_f1 = norm_f1.round(3)\n",
    "norm_f1"
   ]
  },
  {
   "cell_type": "markdown",
   "metadata": {},
   "source": [
    "__Q2a.__ Comment on the trends that you see in this series of marginal distributions."
   ]
  },
  {
   "cell_type": "raw",
   "metadata": {},
   "source": []
  },
  {
   "cell_type": "markdown",
   "metadata": {},
   "source": [
    "__Q2b.__ Repeat the construction for males."
   ]
  },
  {
   "cell_type": "code",
   "execution_count": 114,
   "metadata": {},
   "outputs": [
    {
     "data": {
      "text/html": [
       "<div>\n",
       "<style scoped>\n",
       "    .dataframe tbody tr th:only-of-type {\n",
       "        vertical-align: middle;\n",
       "    }\n",
       "\n",
       "    .dataframe tbody tr th {\n",
       "        vertical-align: top;\n",
       "    }\n",
       "\n",
       "    .dataframe thead th {\n",
       "        text-align: right;\n",
       "    }\n",
       "</style>\n",
       "<table border=\"1\" class=\"dataframe\">\n",
       "  <thead>\n",
       "    <tr style=\"text-align: right;\">\n",
       "      <th>DMDMARTLx</th>\n",
       "      <th>Divorced</th>\n",
       "      <th>Living_with_partner</th>\n",
       "      <th>Married</th>\n",
       "      <th>Never_married</th>\n",
       "      <th>Separated</th>\n",
       "      <th>Widowed</th>\n",
       "    </tr>\n",
       "    <tr>\n",
       "      <th>agegrp</th>\n",
       "      <th></th>\n",
       "      <th></th>\n",
       "      <th></th>\n",
       "      <th></th>\n",
       "      <th></th>\n",
       "      <th></th>\n",
       "    </tr>\n",
       "  </thead>\n",
       "  <tbody>\n",
       "    <tr>\n",
       "      <th>(18, 30]</th>\n",
       "      <td>0.004</td>\n",
       "      <td>0.201</td>\n",
       "      <td>0.220</td>\n",
       "      <td>0.555</td>\n",
       "      <td>0.015</td>\n",
       "      <td>0.004</td>\n",
       "    </tr>\n",
       "    <tr>\n",
       "      <th>(30, 40]</th>\n",
       "      <td>0.053</td>\n",
       "      <td>0.158</td>\n",
       "      <td>0.565</td>\n",
       "      <td>0.195</td>\n",
       "      <td>0.026</td>\n",
       "      <td>0.004</td>\n",
       "    </tr>\n",
       "    <tr>\n",
       "      <th>(40, 50]</th>\n",
       "      <td>0.085</td>\n",
       "      <td>0.082</td>\n",
       "      <td>0.703</td>\n",
       "      <td>0.097</td>\n",
       "      <td>0.027</td>\n",
       "      <td>0.005</td>\n",
       "    </tr>\n",
       "    <tr>\n",
       "      <th>(50, 60]</th>\n",
       "      <td>0.126</td>\n",
       "      <td>0.075</td>\n",
       "      <td>0.652</td>\n",
       "      <td>0.104</td>\n",
       "      <td>0.022</td>\n",
       "      <td>0.022</td>\n",
       "    </tr>\n",
       "    <tr>\n",
       "      <th>(60, 70]</th>\n",
       "      <td>0.126</td>\n",
       "      <td>0.050</td>\n",
       "      <td>0.666</td>\n",
       "      <td>0.087</td>\n",
       "      <td>0.032</td>\n",
       "      <td>0.039</td>\n",
       "    </tr>\n",
       "    <tr>\n",
       "      <th>(70, 80]</th>\n",
       "      <td>0.142</td>\n",
       "      <td>0.022</td>\n",
       "      <td>0.612</td>\n",
       "      <td>0.022</td>\n",
       "      <td>0.035</td>\n",
       "      <td>0.167</td>\n",
       "    </tr>\n",
       "  </tbody>\n",
       "</table>\n",
       "</div>"
      ],
      "text/plain": [
       "DMDMARTLx  Divorced  Living_with_partner  Married  Never_married  Separated  \\\n",
       "agegrp                                                                        \n",
       "(18, 30]      0.004                0.201    0.220          0.555      0.015   \n",
       "(30, 40]      0.053                0.158    0.565          0.195      0.026   \n",
       "(40, 50]      0.085                0.082    0.703          0.097      0.027   \n",
       "(50, 60]      0.126                0.075    0.652          0.104      0.022   \n",
       "(60, 70]      0.126                0.050    0.666          0.087      0.032   \n",
       "(70, 80]      0.142                0.022    0.612          0.022      0.035   \n",
       "\n",
       "DMDMARTLx  Widowed  \n",
       "agegrp              \n",
       "(18, 30]     0.004  \n",
       "(30, 40]     0.004  \n",
       "(40, 50]     0.005  \n",
       "(50, 60]     0.022  \n",
       "(60, 70]     0.039  \n",
       "(70, 80]     0.167  "
      ]
     },
     "execution_count": 114,
     "metadata": {},
     "output_type": "execute_result"
    }
   ],
   "source": [
    "men_age=da.loc[da[\"RIAGENDRx\"] == \"Male\", [\"DMDMARTLx\", \"RIDAGEYR\"]]\n",
    "men_age[\"agegrp\"] = pd.cut(men_age.RIDAGEYR, [18, 30, 40, 50, 60, 70, 80])\n",
    "men_age_groups=men_age.groupby(\"agegrp\")[\"DMDMARTLx\"].value_counts()\n",
    "m1=men_age_groups.unstack()\n",
    "m1=m1.drop(columns=[\"Missing\",\"Refused\"])\n",
    "m1=m1.fillna(0)\n",
    "norm_m1 = m1.apply(lambda x: x/x.sum(), axis=1)\n",
    "norm_m1 = norm_m1.round(3)\n",
    "norm_m1"
   ]
  },
  {
   "cell_type": "markdown",
   "metadata": {},
   "source": [
    "__Q2c.__ Comment on any notable differences that you see when comparing these results for females and for males."
   ]
  },
  {
   "cell_type": "raw",
   "metadata": {},
   "source": []
  },
  {
   "cell_type": "markdown",
   "metadata": {},
   "source": [
    "## Question 3\n",
    "\n",
    "Construct a histogram of the distribution of heights using the BMXHT variable in the NHANES sample."
   ]
  },
  {
   "cell_type": "code",
   "execution_count": 115,
   "metadata": {},
   "outputs": [
    {
     "data": {
      "text/plain": [
       "<matplotlib.axes._subplots.AxesSubplot at 0x2af4968f6d8>"
      ]
     },
     "execution_count": 115,
     "metadata": {},
     "output_type": "execute_result"
    },
    {
     "data": {
      "image/png": "[encoded data removed]",
      "text/plain": [
       "<Figure size 432x288 with 1 Axes>"
      ]
     },
     "metadata": {
      "needs_background": "light"
     },
     "output_type": "display_data"
    }
   ],
   "source": [
    "height=da.BMXHT.dropna()\n",
    "sns.distplot(height)"
   ]
  },
  {
   "cell_type": "markdown",
   "metadata": {},
   "source": [
    "__Q3a.__ Use the `bins` argument to [distplot](https://seaborn.pydata.org/generated/seaborn.distplot.html) to produce histograms with different numbers of bins.  Assess whether the default value for this argument gives a meaningful result, and comment on what happens as the number of bins grows excessively large or excessively small. "
   ]
  },
  {
   "cell_type": "code",
   "execution_count": 116,
   "metadata": {},
   "outputs": [
    {
     "data": {
      "text/plain": [
       "<matplotlib.axes._subplots.AxesSubplot at 0x2af4923b940>"
      ]
     },
     "execution_count": 116,
     "metadata": {},
     "output_type": "execute_result"
    },
    {
     "data": {
      "image/png": "[encoded data removed]",
      "text/plain": [
       "<Figure size 432x288 with 1 Axes>"
      ]
     },
     "metadata": {
      "needs_background": "light"
     },
     "output_type": "display_data"
    }
   ],
   "source": [
    "height=da.BMXHT.dropna()\n",
    "sns.distplot(height, bins=10)"
   ]
  },
  {
   "cell_type": "code",
   "execution_count": 117,
   "metadata": {},
   "outputs": [
    {
     "data": {
      "text/plain": [
       "<matplotlib.axes._subplots.AxesSubplot at 0x2af49511d68>"
      ]
     },
     "execution_count": 117,
     "metadata": {},
     "output_type": "execute_result"
    },
    {
     "data": {
      "image/png": "[encoded data removed]",
      "text/plain": [
       "<Figure size 432x288 with 1 Axes>"
      ]
     },
     "metadata": {
      "needs_background": "light"
     },
     "output_type": "display_data"
    }
   ],
   "source": [
    "sns.distplot(height, bins=20)"
   ]
  },
  {
   "cell_type": "code",
   "execution_count": 118,
   "metadata": {},
   "outputs": [
    {
     "data": {
      "text/plain": [
       "<matplotlib.axes._subplots.AxesSubplot at 0x2af4969c630>"
      ]
     },
     "execution_count": 118,
     "metadata": {},
     "output_type": "execute_result"
    },
    {
     "data": {
      "image/png": "[encoded data removed]",
      "text/plain": [
       "<Figure size 432x288 with 1 Axes>"
      ]
     },
     "metadata": {
      "needs_background": "light"
     },
     "output_type": "display_data"
    }
   ],
   "source": [
    "sns.distplot(height, bins=30)"
   ]
  },
  {
   "cell_type": "code",
   "execution_count": 119,
   "metadata": {},
   "outputs": [
    {
     "data": {
      "text/plain": [
       "<matplotlib.axes._subplots.AxesSubplot at 0x2af48fb8320>"
      ]
     },
     "execution_count": 119,
     "metadata": {},
     "output_type": "execute_result"
    },
    {
     "data": {
      "image/png": "[encoded data removed]",
      "text/plain": [
       "<Figure size 432x288 with 1 Axes>"
      ]
     },
     "metadata": {
      "needs_background": "light"
     },
     "output_type": "display_data"
    }
   ],
   "source": [
    "sns.distplot(height, bins=50)"
   ]
  },
  {
   "cell_type": "markdown",
   "metadata": {},
   "source": [
    "__Q3b.__ Make separate histograms for the heights of women and men, then make a side-by-side boxplot showing the heights of women and men."
   ]
  },
  {
   "cell_type": "code",
   "execution_count": 120,
   "metadata": {},
   "outputs": [
    {
     "data": {
      "text/html": [
       "<div>\n",
       "<style scoped>\n",
       "    .dataframe tbody tr th:only-of-type {\n",
       "        vertical-align: middle;\n",
       "    }\n",
       "\n",
       "    .dataframe tbody tr th {\n",
       "        vertical-align: top;\n",
       "    }\n",
       "\n",
       "    .dataframe thead th {\n",
       "        text-align: right;\n",
       "    }\n",
       "</style>\n",
       "<table border=\"1\" class=\"dataframe\">\n",
       "  <thead>\n",
       "    <tr style=\"text-align: right;\">\n",
       "      <th></th>\n",
       "      <th>BMXHT</th>\n",
       "    </tr>\n",
       "  </thead>\n",
       "  <tbody>\n",
       "    <tr>\n",
       "      <th>3</th>\n",
       "      <td>160.9</td>\n",
       "    </tr>\n",
       "    <tr>\n",
       "      <th>4</th>\n",
       "      <td>164.9</td>\n",
       "    </tr>\n",
       "    <tr>\n",
       "      <th>5</th>\n",
       "      <td>150.0</td>\n",
       "    </tr>\n",
       "    <tr>\n",
       "      <th>7</th>\n",
       "      <td>151.3</td>\n",
       "    </tr>\n",
       "    <tr>\n",
       "      <th>12</th>\n",
       "      <td>163.6</td>\n",
       "    </tr>\n",
       "  </tbody>\n",
       "</table>\n",
       "</div>"
      ],
      "text/plain": [
       "    BMXHT\n",
       "3   160.9\n",
       "4   164.9\n",
       "5   150.0\n",
       "7   151.3\n",
       "12  163.6"
      ]
     },
     "execution_count": 120,
     "metadata": {},
     "output_type": "execute_result"
    }
   ],
   "source": [
    "#Women\n",
    "fem_height=da.loc[da[\"RIAGENDRx\"] == \"Female\", [\"BMXHT\"]]\n",
    "fem_height.head(5)"
   ]
  },
  {
   "cell_type": "code",
   "execution_count": 121,
   "metadata": {},
   "outputs": [
    {
     "data": {
      "text/plain": [
       "<matplotlib.axes._subplots.AxesSubplot at 0x2af4910dcf8>"
      ]
     },
     "execution_count": 121,
     "metadata": {},
     "output_type": "execute_result"
    },
    {
     "data": {
      "image/png": "[encoded data removed]",
      "text/plain": [
       "<Figure size 432x288 with 1 Axes>"
      ]
     },
     "metadata": {
      "needs_background": "light"
     },
     "output_type": "display_data"
    }
   ],
   "source": [
    "#Women histogram\n",
    "x_fh=fem_height[\"BMXHT\"].dropna()\n",
    "sns.distplot(x_fh)"
   ]
  },
  {
   "cell_type": "code",
   "execution_count": 122,
   "metadata": {},
   "outputs": [
    {
     "data": {
      "text/plain": [
       "<matplotlib.axes._subplots.AxesSubplot at 0x2af491cb390>"
      ]
     },
     "execution_count": 122,
     "metadata": {},
     "output_type": "execute_result"
    },
    {
     "data": {
      "image/png": "[encoded data removed]",
      "text/plain": [
       "<Figure size 432x288 with 1 Axes>"
      ]
     },
     "metadata": {
      "needs_background": "light"
     },
     "output_type": "display_data"
    }
   ],
   "source": [
    "#Men\n",
    "men_height=da.loc[da[\"RIAGENDRx\"] == \"Male\", [\"BMXHT\"]]\n",
    "x_mh=men_height[\"BMXHT\"].dropna()\n",
    "sns.distplot(x_mh)"
   ]
  },
  {
   "cell_type": "code",
   "execution_count": 123,
   "metadata": {},
   "outputs": [
    {
     "data": {
      "text/plain": [
       "<matplotlib.axes._subplots.AxesSubplot at 0x2af493cada0>"
      ]
     },
     "execution_count": 123,
     "metadata": {},
     "output_type": "execute_result"
    },
    {
     "data": {
      "image/png": "[encoded data removed]",
      "text/plain": [
       "<Figure size 432x288 with 1 Axes>"
      ]
     },
     "metadata": {
      "needs_background": "light"
     },
     "output_type": "display_data"
    }
   ],
   "source": [
    "#Boxplots for women and men\n",
    "height=da[\"BMXHT\"].dropna()\n",
    "sns.boxplot(y=height, x=\"RIAGENDRx\", data=da)"
   ]
  },
  {
   "cell_type": "code",
   "execution_count": 124,
   "metadata": {},
   "outputs": [
    {
     "data": {
      "text/plain": [
       "<matplotlib.axes._subplots.AxesSubplot at 0x2af494fb9b0>"
      ]
     },
     "execution_count": 124,
     "metadata": {},
     "output_type": "execute_result"
    },
    {
     "data": {
      "image/png": "[encoded data removed]",
      "text/plain": [
       "<Figure size 864x360 with 1 Axes>"
      ]
     },
     "metadata": {
      "needs_background": "light"
     },
     "output_type": "display_data"
    }
   ],
   "source": [
    "da[\"agegrp\"] = pd.cut(da.RIDAGEYR, [18, 30, 40, 50, 60, 70, 80])\n",
    "plt.figure(figsize=(12, 5))\n",
    "sns.boxplot(x=\"agegrp\", y=\"BMXHT\", hue=\"RIAGENDRx\", data=da)"
   ]
  },
  {
   "cell_type": "markdown",
   "metadata": {},
   "source": [
    "__Q3c.__ Comment on what features, if any are not represented clearly in the boxplots, and what features, if any, are easier to see in the boxplots than in the histograms."
   ]
  },
  {
   "cell_type": "raw",
   "metadata": {},
   "source": []
  },
  {
   "cell_type": "markdown",
   "metadata": {},
   "source": [
    "## Question 4\n",
    "\n",
    "Make a boxplot showing the distribution of within-subject differences between the first and second systolic blood pressure measurents ([BPXSY1](https://wwwn.cdc.gov/Nchs/Nhanes/2015-2016/BPX_I.htm#BPXSY1) and [BPXSY2](https://wwwn.cdc.gov/Nchs/Nhanes/2015-2016/BPX_I.htm#BPXSY2))."
   ]
  },
  {
   "cell_type": "code",
   "execution_count": 125,
   "metadata": {},
   "outputs": [
    {
     "data": {
      "text/plain": [
       "BPXSY1    5369\n",
       "BPXSY2    5369\n",
       "dtype: int64"
      ]
     },
     "execution_count": 125,
     "metadata": {},
     "output_type": "execute_result"
    }
   ],
   "source": [
    "df=da[[\"BPXSY1\",\"BPXSY2\"]]\n",
    "dfd=df.dropna()\n",
    "dfd.count()"
   ]
  },
  {
   "cell_type": "code",
   "execution_count": 126,
   "metadata": {},
   "outputs": [
    {
     "data": {
      "text/plain": [
       "<matplotlib.axes._subplots.AxesSubplot at 0x2af4950def0>"
      ]
     },
     "execution_count": 126,
     "metadata": {},
     "output_type": "execute_result"
    },
    {
     "data": {
      "image/png": "[encoded data removed]",
      "text/plain": [
       "<Figure size 432x288 with 1 Axes>"
      ]
     },
     "metadata": {
      "needs_background": "light"
     },
     "output_type": "display_data"
    }
   ],
   "source": [
    "a = (dfd[\"BPXSY1\"] - dfd[\"BPXSY2\"])\n",
    "sns.boxplot(a)\n",
    "#wartości ujemne oznaczają, że przy drugim pomiarze ciśnienie było jednak większe :)"
   ]
  },
  {
   "cell_type": "code",
   "execution_count": 127,
   "metadata": {},
   "outputs": [
    {
     "data": {
      "text/plain": [
       "<matplotlib.axes._subplots.AxesSubplot at 0x2af496564a8>"
      ]
     },
     "execution_count": 127,
     "metadata": {},
     "output_type": "execute_result"
    },
    {
     "data": {
      "image/png": "[encoded data removed]",
      "text/plain": [
       "<Figure size 432x288 with 1 Axes>"
      ]
     },
     "metadata": {
      "needs_background": "light"
     },
     "output_type": "display_data"
    }
   ],
   "source": [
    "sns.distplot(a, bins=30)"
   ]
  },
  {
   "cell_type": "code",
   "execution_count": 128,
   "metadata": {},
   "outputs": [
    {
     "data": {
      "text/plain": [
       "0     4.0\n",
       "1     6.0\n",
       "2     6.0\n",
       "3    -2.0\n",
       "4   -14.0\n",
       "dtype: float64"
      ]
     },
     "execution_count": 128,
     "metadata": {},
     "output_type": "execute_result"
    }
   ],
   "source": [
    "a.head()"
   ]
  },
  {
   "cell_type": "code",
   "execution_count": 129,
   "metadata": {},
   "outputs": [
    {
     "data": {
      "text/html": [
       "<div>\n",
       "<style scoped>\n",
       "    .dataframe tbody tr th:only-of-type {\n",
       "        vertical-align: middle;\n",
       "    }\n",
       "\n",
       "    .dataframe tbody tr th {\n",
       "        vertical-align: top;\n",
       "    }\n",
       "\n",
       "    .dataframe thead th {\n",
       "        text-align: right;\n",
       "    }\n",
       "</style>\n",
       "<table border=\"1\" class=\"dataframe\">\n",
       "  <thead>\n",
       "    <tr style=\"text-align: right;\">\n",
       "      <th></th>\n",
       "      <th>BPXSY1</th>\n",
       "      <th>BPXSY2</th>\n",
       "    </tr>\n",
       "  </thead>\n",
       "  <tbody>\n",
       "    <tr>\n",
       "      <th>0</th>\n",
       "      <td>128.0</td>\n",
       "      <td>124.0</td>\n",
       "    </tr>\n",
       "    <tr>\n",
       "      <th>1</th>\n",
       "      <td>146.0</td>\n",
       "      <td>140.0</td>\n",
       "    </tr>\n",
       "    <tr>\n",
       "      <th>2</th>\n",
       "      <td>138.0</td>\n",
       "      <td>132.0</td>\n",
       "    </tr>\n",
       "    <tr>\n",
       "      <th>3</th>\n",
       "      <td>132.0</td>\n",
       "      <td>134.0</td>\n",
       "    </tr>\n",
       "    <tr>\n",
       "      <th>4</th>\n",
       "      <td>100.0</td>\n",
       "      <td>114.0</td>\n",
       "    </tr>\n",
       "  </tbody>\n",
       "</table>\n",
       "</div>"
      ],
      "text/plain": [
       "   BPXSY1  BPXSY2\n",
       "0   128.0   124.0\n",
       "1   146.0   140.0\n",
       "2   138.0   132.0\n",
       "3   132.0   134.0\n",
       "4   100.0   114.0"
      ]
     },
     "execution_count": 129,
     "metadata": {},
     "output_type": "execute_result"
    }
   ],
   "source": [
    "dfd.head()"
   ]
  },
  {
   "cell_type": "markdown",
   "metadata": {},
   "source": [
    "__Q4a.__ What proportion of the subjects have a lower SBP on the second reading compared to the first?"
   ]
  },
  {
   "cell_type": "code",
   "execution_count": 130,
   "metadata": {},
   "outputs": [
    {
     "data": {
      "text/plain": [
       "count    5369.000000\n",
       "mean      125.088471\n",
       "std        18.493801\n",
       "min        84.000000\n",
       "25%       112.000000\n",
       "50%       122.000000\n",
       "75%       134.000000\n",
       "max       236.000000\n",
       "Name: BPXSY1, dtype: float64"
      ]
     },
     "execution_count": 130,
     "metadata": {},
     "output_type": "execute_result"
    }
   ],
   "source": [
    "#First measurement\n",
    "dfd[\"BPXSY1\"].describe()"
   ]
  },
  {
   "cell_type": "code",
   "execution_count": 131,
   "metadata": {},
   "outputs": [
    {
     "data": {
      "text/plain": [
       "count    5369.000000\n",
       "mean      124.413485\n",
       "std        18.191573\n",
       "min        84.000000\n",
       "25%       112.000000\n",
       "50%       122.000000\n",
       "75%       134.000000\n",
       "max       238.000000\n",
       "Name: BPXSY2, dtype: float64"
      ]
     },
     "execution_count": 131,
     "metadata": {},
     "output_type": "execute_result"
    }
   ],
   "source": [
    "#Second measurement\n",
    "dfd[\"BPXSY2\"].describe()"
   ]
  },
  {
   "cell_type": "code",
   "execution_count": 132,
   "metadata": {},
   "outputs": [
    {
     "data": {
      "text/plain": [
       "0.46"
      ]
     },
     "execution_count": 132,
     "metadata": {},
     "output_type": "execute_result"
    }
   ],
   "source": [
    "a = (dfd[\"BPXSY1\"] > dfd[\"BPXSY2\"])\n",
    "prop = a.sum()/len(dfd[\"BPXSY1\"].dropna())\n",
    "prop.round(2)"
   ]
  },
  {
   "cell_type": "code",
   "execution_count": null,
   "metadata": {},
   "outputs": [],
   "source": []
  },
  {
   "cell_type": "markdown",
   "metadata": {},
   "source": [
    "__Q4b.__ Make side-by-side boxplots of the two systolic blood pressure variables."
   ]
  },
  {
   "cell_type": "code",
   "execution_count": 133,
   "metadata": {},
   "outputs": [
    {
     "data": {
      "image/png": "[encoded data removed]",
      "text/plain": [
       "<Figure size 432x288 with 1 Axes>"
      ]
     },
     "metadata": {
      "needs_background": "light"
     },
     "output_type": "display_data"
    }
   ],
   "source": [
    "blood_press = sns.boxplot(data=da.loc[:, [\"BPXSY1\", \"BPXSY2\"]])\n",
    "_ = blood_press.set_ylabel(\"Blood pressure in mm/Hg\")"
   ]
  },
  {
   "cell_type": "code",
   "execution_count": 134,
   "metadata": {},
   "outputs": [
    {
     "data": {
      "image/png": "[encoded data removed]",
      "text/plain": [
       "<Figure size 432x288 with 1 Axes>"
      ]
     },
     "metadata": {
      "needs_background": "light"
     },
     "output_type": "display_data"
    }
   ],
   "source": [
    "sns.distplot(dfd[\"BPXSY1\"], kde=False)\n",
    "sns.distplot(dfd[\"BPXSY2\"], kde = False).set_title(\"Histogram of Both BPXSY1 and BPXSY2\")\n",
    "plt.show()"
   ]
  },
  {
   "cell_type": "markdown",
   "metadata": {},
   "source": [
    "__Q4c.__ Comment on the variation within either the first or second systolic blood pressure measurements, and the variation in the within-subject differences between the first and second systolic blood pressure measurements."
   ]
  },
  {
   "cell_type": "raw",
   "metadata": {},
   "source": []
  },
  {
   "cell_type": "markdown",
   "metadata": {},
   "source": [
    "## Question 5\n",
    "\n",
    "Construct a frequency table of household sizes for people within each educational attainment category (the relevant variable is [DMDEDUC2](https://wwwn.cdc.gov/Nchs/Nhanes/2015-2016/DEMO_I.htm#DMDEDUC2)).  Convert the frequencies to proportions."
   ]
  },
  {
   "cell_type": "code",
   "execution_count": 135,
   "metadata": {},
   "outputs": [
    {
     "data": {
      "text/plain": [
       "Some College/AA    1621\n",
       "College            1366\n",
       "HighSchool/GED     1186\n",
       "< 9th grade         655\n",
       "9th-11th            643\n",
       "Don't know            3\n",
       "Name: DMDEDUC2x, dtype: int64"
      ]
     },
     "execution_count": 135,
     "metadata": {},
     "output_type": "execute_result"
    }
   ],
   "source": [
    "#DMDHHSIZ - Total number of people in the Household\n",
    "#DMDEDUC2 - Education level - Adults 20+\n",
    "\n",
    "da[[\"DMDEDUC2\",\"DMDHHSIZ\"]].head()\n",
    "da[\"DMDEDUC2x\"] = da[\"DMDEDUC2\"].replace({1.0 : \"< 9th grade\", 2.0 : \"9th-11th\", 3.0 : \"HighSchool/GED\", 4.0 : \"Some College/AA\", 5.0 : \"College\", 7.0 : \"Refused\", 9.0 : \"Don't know\" })\n",
    "da[\"DMDEDUC2x\"].value_counts()"
   ]
  },
  {
   "cell_type": "code",
   "execution_count": 136,
   "metadata": {},
   "outputs": [
    {
     "data": {
      "text/html": [
       "<div>\n",
       "<style scoped>\n",
       "    .dataframe tbody tr th:only-of-type {\n",
       "        vertical-align: middle;\n",
       "    }\n",
       "\n",
       "    .dataframe tbody tr th {\n",
       "        vertical-align: top;\n",
       "    }\n",
       "\n",
       "    .dataframe thead th {\n",
       "        text-align: right;\n",
       "    }\n",
       "</style>\n",
       "<table border=\"1\" class=\"dataframe\">\n",
       "  <thead>\n",
       "    <tr style=\"text-align: right;\">\n",
       "      <th>DMDHHSIZ</th>\n",
       "      <th>1</th>\n",
       "      <th>2</th>\n",
       "      <th>3</th>\n",
       "      <th>4</th>\n",
       "      <th>5</th>\n",
       "      <th>6</th>\n",
       "      <th>7</th>\n",
       "    </tr>\n",
       "    <tr>\n",
       "      <th>DMDEDUC2x</th>\n",
       "      <th></th>\n",
       "      <th></th>\n",
       "      <th></th>\n",
       "      <th></th>\n",
       "      <th></th>\n",
       "      <th></th>\n",
       "      <th></th>\n",
       "    </tr>\n",
       "  </thead>\n",
       "  <tbody>\n",
       "    <tr>\n",
       "      <th>9th-11th</th>\n",
       "      <td>0.12</td>\n",
       "      <td>0.22</td>\n",
       "      <td>0.16</td>\n",
       "      <td>0.15</td>\n",
       "      <td>0.15</td>\n",
       "      <td>0.11</td>\n",
       "      <td>0.09</td>\n",
       "    </tr>\n",
       "    <tr>\n",
       "      <th>&lt; 9th grade</th>\n",
       "      <td>0.11</td>\n",
       "      <td>0.22</td>\n",
       "      <td>0.15</td>\n",
       "      <td>0.13</td>\n",
       "      <td>0.15</td>\n",
       "      <td>0.11</td>\n",
       "      <td>0.13</td>\n",
       "    </tr>\n",
       "    <tr>\n",
       "      <th>College</th>\n",
       "      <td>0.14</td>\n",
       "      <td>0.35</td>\n",
       "      <td>0.19</td>\n",
       "      <td>0.17</td>\n",
       "      <td>0.10</td>\n",
       "      <td>0.03</td>\n",
       "      <td>0.03</td>\n",
       "    </tr>\n",
       "    <tr>\n",
       "      <th>Don't know</th>\n",
       "      <td>NaN</td>\n",
       "      <td>0.67</td>\n",
       "      <td>NaN</td>\n",
       "      <td>NaN</td>\n",
       "      <td>0.33</td>\n",
       "      <td>NaN</td>\n",
       "      <td>NaN</td>\n",
       "    </tr>\n",
       "    <tr>\n",
       "      <th>HighSchool/GED</th>\n",
       "      <td>0.15</td>\n",
       "      <td>0.27</td>\n",
       "      <td>0.17</td>\n",
       "      <td>0.16</td>\n",
       "      <td>0.11</td>\n",
       "      <td>0.07</td>\n",
       "      <td>0.07</td>\n",
       "    </tr>\n",
       "    <tr>\n",
       "      <th>Some College/AA</th>\n",
       "      <td>0.15</td>\n",
       "      <td>0.27</td>\n",
       "      <td>0.19</td>\n",
       "      <td>0.17</td>\n",
       "      <td>0.12</td>\n",
       "      <td>0.05</td>\n",
       "      <td>0.05</td>\n",
       "    </tr>\n",
       "  </tbody>\n",
       "</table>\n",
       "</div>"
      ],
      "text/plain": [
       "DMDHHSIZ            1     2     3     4     5     6     7\n",
       "DMDEDUC2x                                                \n",
       "9th-11th         0.12  0.22  0.16  0.15  0.15  0.11  0.09\n",
       "< 9th grade      0.11  0.22  0.15  0.13  0.15  0.11  0.13\n",
       "College          0.14  0.35  0.19  0.17  0.10  0.03  0.03\n",
       "Don't know        NaN  0.67   NaN   NaN  0.33   NaN   NaN\n",
       "HighSchool/GED   0.15  0.27  0.17  0.16  0.11  0.07  0.07\n",
       "Some College/AA  0.15  0.27  0.19  0.17  0.12  0.05  0.05"
      ]
     },
     "execution_count": 136,
     "metadata": {},
     "output_type": "execute_result"
    }
   ],
   "source": [
    "educ_houshold=da.groupby(\"DMDEDUC2x\")[\"DMDHHSIZ\"].value_counts()\n",
    "ehu=educ_houshold.unstack()\n",
    "ehu_prop=ehu.apply(lambda x: x/x.sum(), axis=1)\n",
    "epr=ehu_prop.round(2)\n",
    "epr"
   ]
  },
  {
   "cell_type": "code",
   "execution_count": null,
   "metadata": {},
   "outputs": [],
   "source": []
  },
  {
   "cell_type": "code",
   "execution_count": null,
   "metadata": {},
   "outputs": [],
   "source": []
  },
  {
   "cell_type": "markdown",
   "metadata": {},
   "source": [
    "__Q5a.__ Comment on any major differences among the distributions."
   ]
  },
  {
   "cell_type": "raw",
   "metadata": {},
   "source": []
  },
  {
   "cell_type": "markdown",
   "metadata": {},
   "source": [
    "__Q5b.__ Restrict the sample to people between 30 and 40 years of age.  Then calculate the median household size for women and men within each level of educational attainment."
   ]
  },
  {
   "cell_type": "code",
   "execution_count": 141,
   "metadata": {},
   "outputs": [
    {
     "data": {
      "text/html": [
       "<div>\n",
       "<style scoped>\n",
       "    .dataframe tbody tr th:only-of-type {\n",
       "        vertical-align: middle;\n",
       "    }\n",
       "\n",
       "    .dataframe tbody tr th {\n",
       "        vertical-align: top;\n",
       "    }\n",
       "\n",
       "    .dataframe thead th {\n",
       "        text-align: right;\n",
       "    }\n",
       "</style>\n",
       "<table border=\"1\" class=\"dataframe\">\n",
       "  <thead>\n",
       "    <tr style=\"text-align: right;\">\n",
       "      <th></th>\n",
       "      <th>DMDEDUC2x</th>\n",
       "      <th>DMDHHSIZ</th>\n",
       "      <th>RIAGENDRx</th>\n",
       "    </tr>\n",
       "  </thead>\n",
       "  <tbody>\n",
       "    <tr>\n",
       "      <th>7</th>\n",
       "      <td>Some College/AA</td>\n",
       "      <td>4</td>\n",
       "      <td>Female</td>\n",
       "    </tr>\n",
       "    <tr>\n",
       "      <th>34</th>\n",
       "      <td>Some College/AA</td>\n",
       "      <td>3</td>\n",
       "      <td>Female</td>\n",
       "    </tr>\n",
       "    <tr>\n",
       "      <th>50</th>\n",
       "      <td>HighSchool/GED</td>\n",
       "      <td>7</td>\n",
       "      <td>Female</td>\n",
       "    </tr>\n",
       "    <tr>\n",
       "      <th>61</th>\n",
       "      <td>HighSchool/GED</td>\n",
       "      <td>4</td>\n",
       "      <td>Female</td>\n",
       "    </tr>\n",
       "    <tr>\n",
       "      <th>65</th>\n",
       "      <td>College</td>\n",
       "      <td>2</td>\n",
       "      <td>Female</td>\n",
       "    </tr>\n",
       "  </tbody>\n",
       "</table>\n",
       "</div>"
      ],
      "text/plain": [
       "          DMDEDUC2x  DMDHHSIZ RIAGENDRx\n",
       "7   Some College/AA         4    Female\n",
       "34  Some College/AA         3    Female\n",
       "50   HighSchool/GED         7    Female\n",
       "61   HighSchool/GED         4    Female\n",
       "65          College         2    Female"
      ]
     },
     "execution_count": 141,
     "metadata": {},
     "output_type": "execute_result"
    }
   ],
   "source": [
    "age_30_40 = da.loc[(da.RIDAGEYR > 30) & (da.RIDAGEYR < 40), [\"DMDEDUC2x\",\"DMDHHSIZ\",\"RIAGENDRx\"]]\n",
    "age_30_40.head()"
   ]
  },
  {
   "cell_type": "code",
   "execution_count": 143,
   "metadata": {},
   "outputs": [
    {
     "data": {
      "text/html": [
       "<div>\n",
       "<style scoped>\n",
       "    .dataframe tbody tr th:only-of-type {\n",
       "        vertical-align: middle;\n",
       "    }\n",
       "\n",
       "    .dataframe tbody tr th {\n",
       "        vertical-align: top;\n",
       "    }\n",
       "\n",
       "    .dataframe thead th {\n",
       "        text-align: right;\n",
       "    }\n",
       "</style>\n",
       "<table border=\"1\" class=\"dataframe\">\n",
       "  <thead>\n",
       "    <tr style=\"text-align: right;\">\n",
       "      <th></th>\n",
       "      <th>DMDEDUC2x</th>\n",
       "      <th>DMDHHSIZ</th>\n",
       "    </tr>\n",
       "  </thead>\n",
       "  <tbody>\n",
       "    <tr>\n",
       "      <th>7</th>\n",
       "      <td>Some College/AA</td>\n",
       "      <td>4</td>\n",
       "    </tr>\n",
       "    <tr>\n",
       "      <th>34</th>\n",
       "      <td>Some College/AA</td>\n",
       "      <td>3</td>\n",
       "    </tr>\n",
       "    <tr>\n",
       "      <th>50</th>\n",
       "      <td>HighSchool/GED</td>\n",
       "      <td>7</td>\n",
       "    </tr>\n",
       "    <tr>\n",
       "      <th>61</th>\n",
       "      <td>HighSchool/GED</td>\n",
       "      <td>4</td>\n",
       "    </tr>\n",
       "    <tr>\n",
       "      <th>65</th>\n",
       "      <td>College</td>\n",
       "      <td>2</td>\n",
       "    </tr>\n",
       "  </tbody>\n",
       "</table>\n",
       "</div>"
      ],
      "text/plain": [
       "          DMDEDUC2x  DMDHHSIZ\n",
       "7   Some College/AA         4\n",
       "34  Some College/AA         3\n",
       "50   HighSchool/GED         7\n",
       "61   HighSchool/GED         4\n",
       "65          College         2"
      ]
     },
     "execution_count": 143,
     "metadata": {},
     "output_type": "execute_result"
    }
   ],
   "source": [
    "fem_age_34=age_30_40.loc[age_30_40[\"RIAGENDRx\"] == \"Female\", [\"DMDEDUC2x\",\"DMDHHSIZ\"]]\n",
    "fem_age_34.head()"
   ]
  },
  {
   "cell_type": "code",
   "execution_count": 154,
   "metadata": {},
   "outputs": [
    {
     "name": "stdout",
     "output_type": "stream",
     "text": [
      "Median household for women aged 30-40 vs different education level: DMDEDUC2x\n",
      "9th-11th           5\n",
      "< 9th grade        5\n",
      "College            4\n",
      "HighSchool/GED     5\n",
      "Some College/AA    4\n",
      "Name: DMDHHSIZ, dtype: int64\n",
      "Mean household for women aged 30-40 vs different education level: DMDEDUC2x\n",
      "9th-11th           4.36\n",
      "< 9th grade        4.97\n",
      "College            3.45\n",
      "HighSchool/GED     4.76\n",
      "Some College/AA    4.31\n",
      "Name: DMDHHSIZ, dtype: float64\n"
     ]
    }
   ],
   "source": [
    "print(\"Median household for women aged 30-40 vs different education level:\", fem_age_34.groupby(\"DMDEDUC2x\")[\"DMDHHSIZ\"].median())\n",
    "print(\"Mean household for women aged 30-40 vs different education level:\", fem_age_34.groupby(\"DMDEDUC2x\")[\"DMDHHSIZ\"].mean().round(2))"
   ]
  },
  {
   "cell_type": "code",
   "execution_count": 155,
   "metadata": {},
   "outputs": [
    {
     "name": "stdout",
     "output_type": "stream",
     "text": [
      "Median household for women aged 30-40 vs different education level: DMDEDUC2x\n",
      "9th-11th           5\n",
      "< 9th grade        5\n",
      "College            3\n",
      "HighSchool/GED     4\n",
      "Some College/AA    4\n",
      "Name: DMDHHSIZ, dtype: int64\n",
      "Mean household for women aged 30-40 vs different education level: DMDEDUC2x\n",
      "9th-11th           4.52\n",
      "< 9th grade        5.14\n",
      "College            3.22\n",
      "HighSchool/GED     4.08\n",
      "Some College/AA    3.87\n",
      "Name: DMDHHSIZ, dtype: float64\n"
     ]
    }
   ],
   "source": [
    "men_age_34=age_30_40.loc[age_30_40[\"RIAGENDRx\"] == \"Male\", [\"DMDEDUC2x\",\"DMDHHSIZ\"]]\n",
    "men_age_34.head()\n",
    "print(\"Median household for women aged 30-40 vs different education level:\", men_age_34.groupby(\"DMDEDUC2x\")[\"DMDHHSIZ\"].median())\n",
    "print(\"Mean household for women aged 30-40 vs different education level:\", men_age_34.groupby(\"DMDEDUC2x\")[\"DMDHHSIZ\"].mean().round(2))"
   ]
  },
  {
   "cell_type": "markdown",
   "metadata": {},
   "source": [
    "## Question 6\n",
    "\n",
    "The participants can be clustered into \"masked variance units\" (MVU) based on every combination of the variables [SDMVSTRA](https://wwwn.cdc.gov/Nchs/Nhanes/2015-2016/DEMO_I.htm#SDMVSTRA) and [SDMVPSU](https://wwwn.cdc.gov/Nchs/Nhanes/2015-2016/DEMO_I.htm#SDMVPSU).  Calculate the mean age ([RIDAGEYR](https://wwwn.cdc.gov/Nchs/Nhanes/2015-2016/DEMO_I.htm#RIDAGEYR)), height ([BMXHT](https://wwwn.cdc.gov/Nchs/Nhanes/2015-2016/BMX_I.htm#BMXHT)), and BMI ([BMXBMI](https://wwwn.cdc.gov/Nchs/Nhanes/2015-2016/BMX_I.htm#BMXBMI)) for each gender ([RIAGENDR](https://wwwn.cdc.gov/Nchs/Nhanes/2015-2016/DEMO_I.htm#RIAGENDR)), within each MVU, and report the ratio between the largest and smallest mean (e.g. for height) across the MVUs."
   ]
  },
  {
   "cell_type": "code",
   "execution_count": 185,
   "metadata": {},
   "outputs": [
    {
     "data": {
      "text/html": [
       "<div>\n",
       "<style scoped>\n",
       "    .dataframe tbody tr th:only-of-type {\n",
       "        vertical-align: middle;\n",
       "    }\n",
       "\n",
       "    .dataframe tbody tr th {\n",
       "        vertical-align: top;\n",
       "    }\n",
       "\n",
       "    .dataframe thead th {\n",
       "        text-align: right;\n",
       "    }\n",
       "</style>\n",
       "<table border=\"1\" class=\"dataframe\">\n",
       "  <thead>\n",
       "    <tr style=\"text-align: right;\">\n",
       "      <th></th>\n",
       "      <th>SDMVSTRA</th>\n",
       "      <th>SDMVPSU</th>\n",
       "    </tr>\n",
       "  </thead>\n",
       "  <tbody>\n",
       "    <tr>\n",
       "      <th>0</th>\n",
       "      <td>125</td>\n",
       "      <td>1</td>\n",
       "    </tr>\n",
       "    <tr>\n",
       "      <th>1</th>\n",
       "      <td>125</td>\n",
       "      <td>1</td>\n",
       "    </tr>\n",
       "    <tr>\n",
       "      <th>2</th>\n",
       "      <td>131</td>\n",
       "      <td>1</td>\n",
       "    </tr>\n",
       "    <tr>\n",
       "      <th>3</th>\n",
       "      <td>131</td>\n",
       "      <td>1</td>\n",
       "    </tr>\n",
       "    <tr>\n",
       "      <th>4</th>\n",
       "      <td>126</td>\n",
       "      <td>2</td>\n",
       "    </tr>\n",
       "  </tbody>\n",
       "</table>\n",
       "</div>"
      ],
      "text/plain": [
       "   SDMVSTRA  SDMVPSU\n",
       "0       125        1\n",
       "1       125        1\n",
       "2       131        1\n",
       "3       131        1\n",
       "4       126        2"
      ]
     },
     "execution_count": 185,
     "metadata": {},
     "output_type": "execute_result"
    }
   ],
   "source": [
    "# SDMVSTRA - Masked variance pseudo-stratum\n",
    "# SDMVPSU - Masked variance pseudo-PSU\n",
    "\n",
    "da[[\"SDMVSTRA\",\"SDMVPSU\"]].head()"
   ]
  },
  {
   "cell_type": "code",
   "execution_count": 186,
   "metadata": {},
   "outputs": [
    {
     "data": {
      "text/plain": [
       "119    297\n",
       "120    344\n",
       "133    351\n",
       "122    366\n",
       "124    366\n",
       "123    374\n",
       "126    375\n",
       "128    388\n",
       "127    389\n",
       "129    390\n",
       "121    390\n",
       "130    391\n",
       "131    434\n",
       "125    434\n",
       "132    446\n",
       "Name: SDMVSTRA, dtype: int64"
      ]
     },
     "execution_count": 186,
     "metadata": {},
     "output_type": "execute_result"
    }
   ],
   "source": [
    "# O ile rozumiem, dla każdej grupy \"zamaskowanych osób\" trzeba policzyć poszczególne średnie\n",
    "da[\"SDMVSTRA\"].value_counts().sort_values()"
   ]
  },
  {
   "cell_type": "code",
   "execution_count": 187,
   "metadata": {},
   "outputs": [
    {
     "data": {
      "text/plain": [
       "2    2798\n",
       "1    2937\n",
       "Name: SDMVPSU, dtype: int64"
      ]
     },
     "execution_count": 187,
     "metadata": {},
     "output_type": "execute_result"
    }
   ],
   "source": [
    "# O ile rozumiem, dla każdej grupy \"zamaskowanych osób\" trzeba policzyć poszczególne średnie\n",
    "da[\"SDMVPSU\"].value_counts().sort_values()"
   ]
  },
  {
   "cell_type": "code",
   "execution_count": 188,
   "metadata": {},
   "outputs": [
    {
     "name": "stdout",
     "output_type": "stream",
     "text": [
      "Largest mean value (age): 51.98\n",
      "Smallest mean value (age): 43.85\n",
      "The ratio between the largest and smallest mean (age): 1.19\n"
     ]
    }
   ],
   "source": [
    "da.groupby(\"SDMVSTRA\")[\"RIDAGEYR\"].mean().round(2)\n",
    "print(\"Largest mean value (age):\", da.groupby(\"SDMVSTRA\")[\"RIDAGEYR\"].mean().round(2).max())\n",
    "print(\"Smallest mean value (age):\", da.groupby(\"SDMVSTRA\")[\"RIDAGEYR\"].mean().round(2).min())\n",
    "print(\"The ratio between the largest and smallest mean (age):\", (da.groupby(\"SDMVSTRA\")[\"RIDAGEYR\"].mean().round(2).max()/da.groupby(\"SDMVSTRA\")[\"RIDAGEYR\"].mean().round(2).min()).round(2))"
   ]
  },
  {
   "cell_type": "code",
   "execution_count": 189,
   "metadata": {},
   "outputs": [
    {
     "name": "stdout",
     "output_type": "stream",
     "text": [
      "Largest mean value (height): 168.41\n",
      "Smallest mean value (height): 163.84\n",
      "The ratio between the largest and smallest mean (height): 1.03\n"
     ]
    }
   ],
   "source": [
    "da.groupby(\"SDMVSTRA\")[\"BMXHT\"].mean().round(2)\n",
    "print(\"Largest mean value (height):\", da.groupby(\"SDMVSTRA\")[\"BMXHT\"].mean().round(2).max())\n",
    "print(\"Smallest mean value (height):\", da.groupby(\"SDMVSTRA\")[\"BMXHT\"].mean().round(2).min())\n",
    "print(\"The ratio between the largest and smallest mean (height):\", (da.groupby(\"SDMVSTRA\")[\"BMXHT\"].mean().round(2).max()/da.groupby(\"SDMVSTRA\")[\"BMXHT\"].mean().round(2).min()).round(2))"
   ]
  },
  {
   "cell_type": "code",
   "execution_count": 190,
   "metadata": {},
   "outputs": [
    {
     "name": "stdout",
     "output_type": "stream",
     "text": [
      "Largest mean value (BMI): 31.18\n",
      "Smallest mean value (BMI): 27.49\n",
      "The ratio between the largest and smallest mean (BMI): 1.13\n"
     ]
    }
   ],
   "source": [
    "da.groupby(\"SDMVSTRA\")[\"BMXBMI\"].mean().round(2)\n",
    "print(\"Largest mean value (BMI):\", da.groupby(\"SDMVSTRA\")[\"BMXBMI\"].mean().round(2).max())\n",
    "print(\"Smallest mean value (BMI):\", da.groupby(\"SDMVSTRA\")[\"BMXBMI\"].mean().round(2).min())\n",
    "print(\"The ratio between the largest and smallest mean (BMI):\", (da.groupby(\"SDMVSTRA\")[\"BMXBMI\"].mean().round(2).max()/da.groupby(\"SDMVSTRA\")[\"BMXBMI\"].mean().round(2).min()).round(2))"
   ]
  },
  {
   "cell_type": "code",
   "execution_count": 210,
   "metadata": {},
   "outputs": [
    {
     "data": {
      "text/plain": [
       "132    225\n",
       "131    223\n",
       "127    217\n",
       "125    211\n",
       "128    208\n",
       "130    203\n",
       "129    202\n",
       "123    201\n",
       "126    198\n",
       "124    197\n",
       "121    191\n",
       "119    181\n",
       "133    180\n",
       "120    171\n",
       "122    168\n",
       "Name: SDMVSTRA, dtype: int64"
      ]
     },
     "execution_count": 210,
     "metadata": {},
     "output_type": "execute_result"
    }
   ],
   "source": [
    "#To co wyżej, tylko podział na płeć - dane dla kobiet\n",
    "fem_SDMVSTRA=da.loc[da[\"RIAGENDRx\"] == \"Female\", [\"SDMVSTRA\",\"RIDAGEYR\",\"BMXHT\",\"BMXBMI\"]]\n",
    "fem_SDMVSTRA.head()\n",
    "fem_SDMVSTRA[\"SDMVSTRA\"].value_counts()"
   ]
  },
  {
   "cell_type": "code",
   "execution_count": 192,
   "metadata": {},
   "outputs": [
    {
     "name": "stdout",
     "output_type": "stream",
     "text": [
      "Largest mean value (age, females): 51.87\n",
      "Smallest mean value (age, females): 43.68\n",
      "The ratio between the largest and smallest mean (age, females): 1.19\n"
     ]
    }
   ],
   "source": [
    "fem_SDMVSTRA.groupby(\"SDMVSTRA\")[\"RIDAGEYR\"].mean().round(2)\n",
    "print(\"Largest mean value (age, females):\", fem_SDMVSTRA.groupby(\"SDMVSTRA\")[\"RIDAGEYR\"].mean().round(2).max())\n",
    "print(\"Smallest mean value (age, females):\", fem_SDMVSTRA.groupby(\"SDMVSTRA\")[\"RIDAGEYR\"].mean().round(2).min())\n",
    "print(\"The ratio between the largest and smallest mean (age, females):\", (fem_SDMVSTRA.groupby(\"SDMVSTRA\")[\"RIDAGEYR\"].mean().round(2).max()/fem_SDMVSTRA.groupby(\"SDMVSTRA\")[\"RIDAGEYR\"].mean().round(2).min()).round(2))"
   ]
  },
  {
   "cell_type": "code",
   "execution_count": 193,
   "metadata": {},
   "outputs": [
    {
     "name": "stdout",
     "output_type": "stream",
     "text": [
      "Largest mean value (height, females): 161.81\n",
      "Smallest mean value (height, females): 157.02\n",
      "The ratio between the largest and smallest mean (height, females): 1.03\n"
     ]
    }
   ],
   "source": [
    "fem_SDMVSTRA.groupby(\"SDMVSTRA\")[\"BMXHT\"].mean().round(2)\n",
    "print(\"Largest mean value (height, females):\", fem_SDMVSTRA.groupby(\"SDMVSTRA\")[\"BMXHT\"].mean().round(2).max())\n",
    "print(\"Smallest mean value (height, females):\", fem_SDMVSTRA.groupby(\"SDMVSTRA\")[\"BMXHT\"].mean().round(2).min())\n",
    "print(\"The ratio between the largest and smallest mean (height, females):\", (fem_SDMVSTRA.groupby(\"SDMVSTRA\")[\"BMXHT\"].mean().round(2).max()/fem_SDMVSTRA.groupby(\"SDMVSTRA\")[\"BMXHT\"].mean().round(2).min()).round(2))"
   ]
  },
  {
   "cell_type": "code",
   "execution_count": 194,
   "metadata": {},
   "outputs": [
    {
     "name": "stdout",
     "output_type": "stream",
     "text": [
      "Largest mean value (BMI, females): 31.74\n",
      "Smallest mean value (BMI, females): 27.93\n",
      "The ratio between the largest and smallest mean (BMI, females): 1.14\n"
     ]
    }
   ],
   "source": [
    "fem_SDMVSTRA.groupby(\"SDMVSTRA\")[\"BMXBMI\"].mean().round(2)\n",
    "print(\"Largest mean value (BMI, females):\", fem_SDMVSTRA.groupby(\"SDMVSTRA\")[\"BMXBMI\"].mean().round(2).max())\n",
    "print(\"Smallest mean value (BMI, females):\", fem_SDMVSTRA.groupby(\"SDMVSTRA\")[\"BMXBMI\"].mean().round(2).min())\n",
    "print(\"The ratio between the largest and smallest mean (BMI, females):\", (fem_SDMVSTRA.groupby(\"SDMVSTRA\")[\"BMXBMI\"].mean().round(2).max()/fem_SDMVSTRA.groupby(\"SDMVSTRA\")[\"BMXBMI\"].mean().round(2).min()).round(2))"
   ]
  },
  {
   "cell_type": "code",
   "execution_count": 211,
   "metadata": {},
   "outputs": [
    {
     "data": {
      "text/plain": [
       "125    223\n",
       "132    221\n",
       "131    211\n",
       "121    199\n",
       "122    198\n",
       "129    188\n",
       "130    188\n",
       "128    180\n",
       "126    177\n",
       "123    173\n",
       "120    173\n",
       "127    172\n",
       "133    171\n",
       "124    169\n",
       "119    116\n",
       "Name: SDMVSTRA, dtype: int64"
      ]
     },
     "execution_count": 211,
     "metadata": {},
     "output_type": "execute_result"
    }
   ],
   "source": [
    "#To co wyżej, tylko podział na płeć - dane dla mężczyzn\n",
    "men_SDMVSTRA=da.loc[da[\"RIAGENDRx\"] == \"Male\", [\"SDMVSTRA\",\"RIDAGEYR\",\"BMXHT\",\"BMXBMI\"]]\n",
    "men_SDMVSTRA.head()\n",
    "men_SDMVSTRA[\"SDMVSTRA\"].value_counts()"
   ]
  },
  {
   "cell_type": "code",
   "execution_count": 196,
   "metadata": {},
   "outputs": [
    {
     "name": "stdout",
     "output_type": "stream",
     "text": [
      "Largest mean value (age, males): 53.6\n",
      "Smallest mean value (age, males): 44.01\n",
      "The ratio between the largest and smallest mean (age, males): 1.22\n"
     ]
    }
   ],
   "source": [
    "men_SDMVSTRA.groupby(\"SDMVSTRA\")[\"RIDAGEYR\"].mean().round(2)\n",
    "print(\"Largest mean value (age, males):\", men_SDMVSTRA.groupby(\"SDMVSTRA\")[\"RIDAGEYR\"].mean().round(2).max())\n",
    "print(\"Smallest mean value (age, males):\", men_SDMVSTRA.groupby(\"SDMVSTRA\")[\"RIDAGEYR\"].mean().round(2).min())\n",
    "print(\"The ratio between the largest and smallest mean (age, males):\", (men_SDMVSTRA.groupby(\"SDMVSTRA\")[\"RIDAGEYR\"].mean().round(2).max()/men_SDMVSTRA.groupby(\"SDMVSTRA\")[\"RIDAGEYR\"].mean().round(2).min()).round(2))"
   ]
  },
  {
   "cell_type": "code",
   "execution_count": 197,
   "metadata": {},
   "outputs": [
    {
     "name": "stdout",
     "output_type": "stream",
     "text": [
      "Largest mean value (height, males): 175.97\n",
      "Smallest mean value (height, males): 170.68\n",
      "The ratio between the largest and smallest mean (height, males): 1.03\n"
     ]
    }
   ],
   "source": [
    "men_SDMVSTRA.groupby(\"SDMVSTRA\")[\"BMXHT\"].mean().round(2)\n",
    "print(\"Largest mean value (height, males):\", men_SDMVSTRA.groupby(\"SDMVSTRA\")[\"BMXHT\"].mean().round(2).max())\n",
    "print(\"Smallest mean value (height, males):\", men_SDMVSTRA.groupby(\"SDMVSTRA\")[\"BMXHT\"].mean().round(2).min())\n",
    "print(\"The ratio between the largest and smallest mean (height, males):\", (men_SDMVSTRA.groupby(\"SDMVSTRA\")[\"BMXHT\"].mean().round(2).max()/men_SDMVSTRA.groupby(\"SDMVSTRA\")[\"BMXHT\"].mean().round(2).min()).round(2))"
   ]
  },
  {
   "cell_type": "code",
   "execution_count": 198,
   "metadata": {},
   "outputs": [
    {
     "name": "stdout",
     "output_type": "stream",
     "text": [
      "Largest mean value (height, males): 30.81\n",
      "Smallest mean value (height, males): 27.03\n",
      "The ratio between the largest and smallest mean (height, males): 1.14\n"
     ]
    }
   ],
   "source": [
    "men_SDMVSTRA.groupby(\"SDMVSTRA\")[\"BMXBMI\"].mean().round(2)\n",
    "print(\"Largest mean value (height, males):\", men_SDMVSTRA.groupby(\"SDMVSTRA\")[\"BMXBMI\"].mean().round(2).max())\n",
    "print(\"Smallest mean value (height, males):\", men_SDMVSTRA.groupby(\"SDMVSTRA\")[\"BMXBMI\"].mean().round(2).min())\n",
    "print(\"The ratio between the largest and smallest mean (height, males):\", (men_SDMVSTRA.groupby(\"SDMVSTRA\")[\"BMXBMI\"].mean().round(2).max()/men_SDMVSTRA.groupby(\"SDMVSTRA\")[\"BMXBMI\"].mean().round(2).min()).round(2))"
   ]
  },
  {
   "cell_type": "code",
   "execution_count": 213,
   "metadata": {},
   "outputs": [
    {
     "data": {
      "text/plain": [
       "1    1513\n",
       "2    1463\n",
       "Name: SDMVPSU, dtype: int64"
      ]
     },
     "execution_count": 213,
     "metadata": {},
     "output_type": "execute_result"
    }
   ],
   "source": [
    "#druga zmienna maskująca: SDMVPSU\n",
    "#dane dla kobiet\n",
    "fem_SDMVPSU=da.loc[da[\"RIAGENDRx\"] == \"Female\", [\"SDMVPSU\",\"RIDAGEYR\",\"BMXHT\",\"BMXBMI\"]]\n",
    "fem_SDMVPSU.head()\n",
    "fem_SDMVPSU[\"SDMVPSU\"].value_counts()"
   ]
  },
  {
   "cell_type": "code",
   "execution_count": 215,
   "metadata": {},
   "outputs": [
    {
     "name": "stdout",
     "output_type": "stream",
     "text": [
      "Largest mean value (age, females): 47.94\n",
      "Smallest mean value (age, females): 47.64\n",
      "The ratio between the largest and smallest mean (age, females): 1.01\n"
     ]
    }
   ],
   "source": [
    "fem_SDMVPSU.groupby(\"SDMVPSU\")[\"RIDAGEYR\"].mean().round(2)\n",
    "print(\"Largest mean value (age, females):\", fem_SDMVPSU.groupby(\"SDMVPSU\")[\"RIDAGEYR\"].mean().round(2).max())\n",
    "print(\"Smallest mean value (age, females):\", fem_SDMVPSU.groupby(\"SDMVPSU\")[\"RIDAGEYR\"].mean().round(2).min())\n",
    "print(\"The ratio between the largest and smallest mean (age, females):\", (fem_SDMVPSU.groupby(\"SDMVPSU\")[\"RIDAGEYR\"].mean().round(2).max()/fem_SDMVPSU.groupby(\"SDMVPSU\")[\"RIDAGEYR\"].mean().round(2).min()).round(2))"
   ]
  },
  {
   "cell_type": "code",
   "execution_count": 216,
   "metadata": {},
   "outputs": [
    {
     "name": "stdout",
     "output_type": "stream",
     "text": [
      "Largest mean value (height, females): 160.01\n",
      "Smallest mean value (height, females): 159.35\n",
      "The ratio between the largest and smallest mean (height, females): 1.0\n"
     ]
    }
   ],
   "source": [
    "fem_SDMVPSU.groupby(\"SDMVPSU\")[\"BMXHT\"].mean().round(2)\n",
    "print(\"Largest mean value (height, females):\", fem_SDMVPSU.groupby(\"SDMVPSU\")[\"BMXHT\"].mean().round(2).max())\n",
    "print(\"Smallest mean value (height, females):\", fem_SDMVPSU.groupby(\"SDMVPSU\")[\"BMXHT\"].mean().round(2).min())\n",
    "print(\"The ratio between the largest and smallest mean (height, females):\", (fem_SDMVPSU.groupby(\"SDMVPSU\")[\"BMXHT\"].mean().round(2).max()/fem_SDMVPSU.groupby(\"SDMVPSU\")[\"BMXHT\"].mean().round(2).min()).round(2))"
   ]
  },
  {
   "cell_type": "code",
   "execution_count": 217,
   "metadata": {},
   "outputs": [
    {
     "name": "stdout",
     "output_type": "stream",
     "text": [
      "Largest mean value (BMI, females): 30.47\n",
      "Smallest mean value (BMI, females): 29.39\n",
      "The ratio between the largest and smallest mean (BMI, females): 1.04\n"
     ]
    }
   ],
   "source": [
    "fem_SDMVPSU.groupby(\"SDMVPSU\")[\"BMXBMI\"].mean().round(2)\n",
    "print(\"Largest mean value (BMI, females):\", fem_SDMVPSU.groupby(\"SDMVPSU\")[\"BMXBMI\"].mean().round(2).max())\n",
    "print(\"Smallest mean value (BMI, females):\", fem_SDMVPSU.groupby(\"SDMVPSU\")[\"BMXBMI\"].mean().round(2).min())\n",
    "print(\"The ratio between the largest and smallest mean (BMI, females):\", (fem_SDMVPSU.groupby(\"SDMVPSU\")[\"BMXBMI\"].mean().round(2).max()/fem_SDMVPSU.groupby(\"SDMVPSU\")[\"BMXBMI\"].mean().round(2).min()).round(2))"
   ]
  },
  {
   "cell_type": "code",
   "execution_count": 218,
   "metadata": {},
   "outputs": [
    {
     "data": {
      "text/plain": [
       "1    1424\n",
       "2    1335\n",
       "Name: SDMVPSU, dtype: int64"
      ]
     },
     "execution_count": 218,
     "metadata": {},
     "output_type": "execute_result"
    }
   ],
   "source": [
    "#druga zmienna maskująca: SDMVPSU\n",
    "#dane dla mężczyzn\n",
    "men_SDMVPSU=da.loc[da[\"RIAGENDRx\"] == \"Male\", [\"SDMVPSU\",\"RIDAGEYR\",\"BMXHT\",\"BMXBMI\"]]\n",
    "men_SDMVPSU.head()\n",
    "men_SDMVPSU[\"SDMVPSU\"].value_counts()"
   ]
  },
  {
   "cell_type": "code",
   "execution_count": 219,
   "metadata": {},
   "outputs": [
    {
     "name": "stdout",
     "output_type": "stream",
     "text": [
      "Largest mean value (age, males): 48.6\n",
      "Smallest mean value (age, males): 48.04\n",
      "The ratio between the largest and smallest mean (age, males): 1.01\n"
     ]
    }
   ],
   "source": [
    "men_SDMVPSU.groupby(\"SDMVPSU\")[\"RIDAGEYR\"].mean().round(2)\n",
    "print(\"Largest mean value (age, males):\", men_SDMVPSU.groupby(\"SDMVPSU\")[\"RIDAGEYR\"].mean().round(2).max())\n",
    "print(\"Smallest mean value (age, males):\", men_SDMVPSU.groupby(\"SDMVPSU\")[\"RIDAGEYR\"].mean().round(2).min())\n",
    "print(\"The ratio between the largest and smallest mean (age, males):\", (men_SDMVPSU.groupby(\"SDMVPSU\")[\"RIDAGEYR\"].mean().round(2).max()/men_SDMVPSU.groupby(\"SDMVPSU\")[\"RIDAGEYR\"].mean().round(2).min()).round(2))"
   ]
  },
  {
   "cell_type": "code",
   "execution_count": 221,
   "metadata": {},
   "outputs": [
    {
     "name": "stdout",
     "output_type": "stream",
     "text": [
      "Largest mean value (height, males): 173.46\n",
      "Smallest mean value (height, males): 172.82\n",
      "The ratio between the largest and smallest mean (height, males): 1.0\n"
     ]
    }
   ],
   "source": [
    "men_SDMVPSU.groupby(\"SDMVPSU\")[\"BMXHT\"].mean().round(2)\n",
    "print(\"Largest mean value (height, males):\", men_SDMVPSU.groupby(\"SDMVPSU\")[\"BMXHT\"].mean().round(2).max())\n",
    "print(\"Smallest mean value (height, males):\", men_SDMVPSU.groupby(\"SDMVPSU\")[\"BMXHT\"].mean().round(2).min())\n",
    "print(\"The ratio between the largest and smallest mean (height, males):\", (men_SDMVPSU.groupby(\"SDMVPSU\")[\"BMXHT\"].mean().round(2).max()/men_SDMVPSU.groupby(\"SDMVPSU\")[\"BMXHT\"].mean().round(2).min()).round(2))"
   ]
  },
  {
   "cell_type": "code",
   "execution_count": 222,
   "metadata": {},
   "outputs": [
    {
     "name": "stdout",
     "output_type": "stream",
     "text": [
      "Largest mean value (BMI, males): 29.16\n",
      "Smallest mean value (BMI, males): 28.37\n",
      "The ratio between the largest and smallest mean (BMI, males): 1.03\n"
     ]
    }
   ],
   "source": [
    "men_SDMVPSU.groupby(\"SDMVPSU\")[\"BMXBMI\"].mean().round(2)\n",
    "print(\"Largest mean value (BMI, males):\", men_SDMVPSU.groupby(\"SDMVPSU\")[\"BMXBMI\"].mean().round(2).max())\n",
    "print(\"Smallest mean value (BMI, males):\", men_SDMVPSU.groupby(\"SDMVPSU\")[\"BMXBMI\"].mean().round(2).min())\n",
    "print(\"The ratio between the largest and smallest mean (BMI, males):\", (men_SDMVPSU.groupby(\"SDMVPSU\")[\"BMXBMI\"].mean().round(2).max()/men_SDMVPSU.groupby(\"SDMVPSU\")[\"BMXBMI\"].mean().round(2).min()).round(2))"
   ]
  },
  {
   "cell_type": "markdown",
   "metadata": {},
   "source": [
    "__Q6a.__ Comment on the extent to which mean age, height, and BMI vary among the MVUs."
   ]
  },
  {
   "cell_type": "raw",
   "metadata": {},
   "source": [
    "W przypadku MVU z mniejszymi grupami (\"SDMVSTRA\") średnie pomiędzy grupami bardziej się różnią niż w przypadku zmiennej \"SDMVPSU\", gdzie grupy są dwie i znacznie większe."
   ]
  },
  {
   "cell_type": "markdown",
   "metadata": {},
   "source": [
    "__Q6b.__ Calculate the inter-quartile range (IQR) for age, height, and BMI for each gender and each MVU.  Report the ratio between the largest and smallest IQR across the MVUs."
   ]
  },
  {
   "cell_type": "code",
   "execution_count": 230,
   "metadata": {},
   "outputs": [
    {
     "data": {
      "text/html": [
       "<div>\n",
       "<style scoped>\n",
       "    .dataframe tbody tr th:only-of-type {\n",
       "        vertical-align: middle;\n",
       "    }\n",
       "\n",
       "    .dataframe tbody tr th {\n",
       "        vertical-align: top;\n",
       "    }\n",
       "\n",
       "    .dataframe thead th {\n",
       "        text-align: right;\n",
       "    }\n",
       "</style>\n",
       "<table border=\"1\" class=\"dataframe\">\n",
       "  <thead>\n",
       "    <tr style=\"text-align: right;\">\n",
       "      <th></th>\n",
       "      <th>SDMVSTRA</th>\n",
       "      <th>RIDAGEYR</th>\n",
       "      <th>BMXHT</th>\n",
       "      <th>BMXBMI</th>\n",
       "    </tr>\n",
       "  </thead>\n",
       "  <tbody>\n",
       "    <tr>\n",
       "      <th>3</th>\n",
       "      <td>131</td>\n",
       "      <td>56</td>\n",
       "      <td>160.9</td>\n",
       "      <td>42.4</td>\n",
       "    </tr>\n",
       "    <tr>\n",
       "      <th>4</th>\n",
       "      <td>126</td>\n",
       "      <td>42</td>\n",
       "      <td>164.9</td>\n",
       "      <td>20.3</td>\n",
       "    </tr>\n",
       "    <tr>\n",
       "      <th>5</th>\n",
       "      <td>128</td>\n",
       "      <td>72</td>\n",
       "      <td>150.0</td>\n",
       "      <td>28.6</td>\n",
       "    </tr>\n",
       "    <tr>\n",
       "      <th>7</th>\n",
       "      <td>125</td>\n",
       "      <td>32</td>\n",
       "      <td>151.3</td>\n",
       "      <td>28.2</td>\n",
       "    </tr>\n",
       "    <tr>\n",
       "      <th>12</th>\n",
       "      <td>124</td>\n",
       "      <td>30</td>\n",
       "      <td>163.6</td>\n",
       "      <td>26.6</td>\n",
       "    </tr>\n",
       "  </tbody>\n",
       "</table>\n",
       "</div>"
      ],
      "text/plain": [
       "    SDMVSTRA  RIDAGEYR  BMXHT  BMXBMI\n",
       "3        131        56  160.9    42.4\n",
       "4        126        42  164.9    20.3\n",
       "5        128        72  150.0    28.6\n",
       "7        125        32  151.3    28.2\n",
       "12       124        30  163.6    26.6"
      ]
     },
     "execution_count": 230,
     "metadata": {},
     "output_type": "execute_result"
    }
   ],
   "source": [
    "# females, \"SDMVSTRA\"\n",
    "fem_SDMVSTRA=da.loc[da[\"RIAGENDRx\"] == \"Female\", [\"SDMVSTRA\",\"RIDAGEYR\",\"BMXHT\",\"BMXBMI\"]]\n",
    "fem_SDMVSTRA.head()"
   ]
  },
  {
   "cell_type": "code",
   "execution_count": 248,
   "metadata": {},
   "outputs": [
    {
     "name": "stdout",
     "output_type": "stream",
     "text": [
      "IQR for age variable: SDMVSTRA\n",
      "119    33.00\n",
      "120    26.50\n",
      "121    26.00\n",
      "122    25.25\n",
      "123    32.00\n",
      "124    31.00\n",
      "125    31.00\n",
      "126    31.00\n",
      "127    29.00\n",
      "128    29.50\n",
      "129    26.00\n",
      "130    33.00\n",
      "131    28.50\n",
      "132    33.00\n",
      "133    32.00\n",
      "Name: RIDAGEYR, dtype: float64\n",
      "Ratio between the largest and smallest IQR: 1.31\n"
     ]
    }
   ],
   "source": [
    "#print(\"25th percentile (females, age):\", fem_SDMVSTRA.groupby(\"SDMVSTRA\")[\"RIDAGEYR\"].quantile(0.25))\n",
    "#print(\"75th percentile (females, age):\", fem_SDMVSTRA.groupby(\"SDMVSTRA\")[\"RIDAGEYR\"].quantile(0.75))\n",
    "#print(\"50th percentile (females, age):\", fem_SDMVSTRA.groupby(\"SDMVSTRA\")[\"RIDAGEYR\"].quantile(0.50))\n",
    "p_25fem_age=fem_SDMVSTRA.groupby(\"SDMVSTRA\")[\"RIDAGEYR\"].quantile(0.25)\n",
    "p_75fem_age=fem_SDMVSTRA.groupby(\"SDMVSTRA\")[\"RIDAGEYR\"].quantile(0.75)\n",
    "IQR_fem_age=p_75fem_age-p_25fem_age\n",
    "IQR_fem_age.max()\n",
    "print(\"IQR for age variable:\", IQR_fem_age)\n",
    "print(\"Ratio between the largest and smallest IQR:\", (IQR_fem_age.max()/IQR_fem_age.min()).round(2))"
   ]
  },
  {
   "cell_type": "code",
   "execution_count": 260,
   "metadata": {},
   "outputs": [
    {
     "name": "stdout",
     "output_type": "stream",
     "text": [
      "IQR for height variable: SDMVSTRA\n",
      "119     9.700\n",
      "120     9.175\n",
      "121     9.775\n",
      "122     9.250\n",
      "123    10.825\n",
      "124     9.950\n",
      "125     9.800\n",
      "126    10.550\n",
      "127     9.975\n",
      "128     9.650\n",
      "129     9.600\n",
      "130     8.950\n",
      "131     8.100\n",
      "132    11.050\n",
      "133     9.700\n",
      "Name: BMXHT, dtype: float64\n",
      "Ratio between the largest and smallest IQR: 1.36\n"
     ]
    }
   ],
   "source": [
    "p_25fem_height=fem_SDMVSTRA.groupby(\"SDMVSTRA\")[\"BMXHT\"].quantile(0.25)\n",
    "p_75fem_height=fem_SDMVSTRA.groupby(\"SDMVSTRA\")[\"BMXHT\"].quantile(0.75)\n",
    "IQR_fem_height=p_75fem_height-p_25fem_height\n",
    "IQR_fem_height.max()\n",
    "print(\"IQR for height variable:\", IQR_fem_height)\n",
    "print(\"Ratio between the largest and smallest IQR:\", (IQR_fem_height.max()/IQR_fem_height.min()).round(2))"
   ]
  },
  {
   "cell_type": "code",
   "execution_count": 261,
   "metadata": {},
   "outputs": [
    {
     "name": "stdout",
     "output_type": "stream",
     "text": [
      "IQR for BMI variable: SDMVSTRA\n",
      "119     9.500\n",
      "120    10.175\n",
      "121     9.100\n",
      "122     9.075\n",
      "123    10.175\n",
      "124     9.050\n",
      "125     9.050\n",
      "126    10.100\n",
      "127    10.375\n",
      "128     9.875\n",
      "129     9.550\n",
      "130    10.250\n",
      "131    10.975\n",
      "132    11.250\n",
      "133     9.150\n",
      "Name: BMXBMI, dtype: float64\n",
      "Ratio between the largest and smallest IQR: 1.24\n"
     ]
    }
   ],
   "source": [
    "p_25fem_BMI=fem_SDMVSTRA.groupby(\"SDMVSTRA\")[\"BMXBMI\"].quantile(0.25)\n",
    "p_75fem_BMI=fem_SDMVSTRA.groupby(\"SDMVSTRA\")[\"BMXBMI\"].quantile(0.75)\n",
    "IQR_fem_BMI=p_75fem_BMI-p_25fem_BMI\n",
    "IQR_fem_BMI.max()\n",
    "print(\"IQR for BMI variable:\", IQR_fem_BMI)\n",
    "print(\"Ratio between the largest and smallest IQR:\", (IQR_fem_BMI.max()/IQR_fem_BMI.min()).round(2))"
   ]
  },
  {
   "cell_type": "code",
   "execution_count": 256,
   "metadata": {},
   "outputs": [
    {
     "data": {
      "text/html": [
       "<div>\n",
       "<style scoped>\n",
       "    .dataframe tbody tr th:only-of-type {\n",
       "        vertical-align: middle;\n",
       "    }\n",
       "\n",
       "    .dataframe tbody tr th {\n",
       "        vertical-align: top;\n",
       "    }\n",
       "\n",
       "    .dataframe thead th {\n",
       "        text-align: right;\n",
       "    }\n",
       "</style>\n",
       "<table border=\"1\" class=\"dataframe\">\n",
       "  <thead>\n",
       "    <tr style=\"text-align: right;\">\n",
       "      <th></th>\n",
       "      <th>SDMVSTRA</th>\n",
       "      <th>RIDAGEYR</th>\n",
       "      <th>BMXHT</th>\n",
       "      <th>BMXBMI</th>\n",
       "    </tr>\n",
       "  </thead>\n",
       "  <tbody>\n",
       "    <tr>\n",
       "      <th>0</th>\n",
       "      <td>125</td>\n",
       "      <td>62</td>\n",
       "      <td>184.5</td>\n",
       "      <td>27.8</td>\n",
       "    </tr>\n",
       "    <tr>\n",
       "      <th>1</th>\n",
       "      <td>125</td>\n",
       "      <td>53</td>\n",
       "      <td>171.4</td>\n",
       "      <td>30.8</td>\n",
       "    </tr>\n",
       "    <tr>\n",
       "      <th>2</th>\n",
       "      <td>131</td>\n",
       "      <td>78</td>\n",
       "      <td>170.1</td>\n",
       "      <td>28.8</td>\n",
       "    </tr>\n",
       "    <tr>\n",
       "      <th>6</th>\n",
       "      <td>128</td>\n",
       "      <td>22</td>\n",
       "      <td>165.4</td>\n",
       "      <td>28.0</td>\n",
       "    </tr>\n",
       "    <tr>\n",
       "      <th>8</th>\n",
       "      <td>122</td>\n",
       "      <td>18</td>\n",
       "      <td>166.1</td>\n",
       "      <td>26.2</td>\n",
       "    </tr>\n",
       "  </tbody>\n",
       "</table>\n",
       "</div>"
      ],
      "text/plain": [
       "   SDMVSTRA  RIDAGEYR  BMXHT  BMXBMI\n",
       "0       125        62  184.5    27.8\n",
       "1       125        53  171.4    30.8\n",
       "2       131        78  170.1    28.8\n",
       "6       128        22  165.4    28.0\n",
       "8       122        18  166.1    26.2"
      ]
     },
     "execution_count": 256,
     "metadata": {},
     "output_type": "execute_result"
    }
   ],
   "source": [
    "men_SDMVSTRA=da.loc[da[\"RIAGENDRx\"] == \"Male\", [\"SDMVSTRA\",\"RIDAGEYR\",\"BMXHT\",\"BMXBMI\"]]\n",
    "men_SDMVSTRA.head()"
   ]
  },
  {
   "cell_type": "code",
   "execution_count": 257,
   "metadata": {},
   "outputs": [
    {
     "name": "stdout",
     "output_type": "stream",
     "text": [
      "IQR for age variable: SDMVSTRA\n",
      "119    30.5\n",
      "120    25.0\n",
      "121    31.0\n",
      "122    29.0\n",
      "123    29.0\n",
      "124    31.0\n",
      "125    33.0\n",
      "126    35.0\n",
      "127    29.0\n",
      "128    31.0\n",
      "129    25.5\n",
      "130    32.0\n",
      "131    32.5\n",
      "132    32.0\n",
      "133    31.0\n",
      "Name: RIDAGEYR, dtype: float64\n",
      "Ratio between the largest and smallest IQR: 1.4\n"
     ]
    }
   ],
   "source": [
    "p_25men_age=men_SDMVSTRA.groupby(\"SDMVSTRA\")[\"RIDAGEYR\"].quantile(0.25)\n",
    "p_75men_age=men_SDMVSTRA.groupby(\"SDMVSTRA\")[\"RIDAGEYR\"].quantile(0.75)\n",
    "IQR_men_age=p_75men_age-p_25men_age\n",
    "IQR_men_age.max()\n",
    "print(\"IQR for age variable:\", IQR_men_age)\n",
    "print(\"Ratio between the largest and smallest IQR:\", (IQR_men_age.max()/IQR_men_age.min()).round(2))"
   ]
  },
  {
   "cell_type": "code",
   "execution_count": 262,
   "metadata": {},
   "outputs": [
    {
     "name": "stdout",
     "output_type": "stream",
     "text": [
      "IQR for height variable: SDMVSTRA\n",
      "119    10.450\n",
      "120    11.300\n",
      "121    10.900\n",
      "122    11.025\n",
      "123     9.350\n",
      "124    10.250\n",
      "125     9.200\n",
      "126     9.400\n",
      "127     9.250\n",
      "128    10.800\n",
      "129    11.400\n",
      "130     8.750\n",
      "131     9.300\n",
      "132    10.600\n",
      "133     8.925\n",
      "Name: BMXHT, dtype: float64\n",
      "Ratio between the largest and smallest IQR: 1.3\n"
     ]
    }
   ],
   "source": [
    "p_25men_height=men_SDMVSTRA.groupby(\"SDMVSTRA\")[\"BMXHT\"].quantile(0.25)\n",
    "p_75men_height=men_SDMVSTRA.groupby(\"SDMVSTRA\")[\"BMXHT\"].quantile(0.75)\n",
    "IQR_men_height=p_75men_height-p_25men_height\n",
    "IQR_men_height.max()\n",
    "print(\"IQR for height variable:\", IQR_men_height)\n",
    "print(\"Ratio between the largest and smallest IQR:\", (IQR_men_height.max()/IQR_men_height.min()).round(2))"
   ]
  },
  {
   "cell_type": "code",
   "execution_count": 263,
   "metadata": {},
   "outputs": [
    {
     "name": "stdout",
     "output_type": "stream",
     "text": [
      "IQR for BMI variable: SDMVSTRA\n",
      "119    5.500\n",
      "120    8.075\n",
      "121    7.275\n",
      "122    6.425\n",
      "123    8.200\n",
      "124    7.025\n",
      "125    8.225\n",
      "126    7.700\n",
      "127    7.600\n",
      "128    7.750\n",
      "129    6.300\n",
      "130    7.850\n",
      "131    7.300\n",
      "132    7.800\n",
      "133    6.625\n",
      "Name: BMXBMI, dtype: float64\n",
      "Ratio between the largest and smallest IQR: 1.5\n"
     ]
    }
   ],
   "source": [
    "p_25men_BMI=men_SDMVSTRA.groupby(\"SDMVSTRA\")[\"BMXBMI\"].quantile(0.25)\n",
    "p_75men_BMI=men_SDMVSTRA.groupby(\"SDMVSTRA\")[\"BMXBMI\"].quantile(0.75)\n",
    "IQR_men_BMI=p_75men_BMI-p_25men_BMI\n",
    "IQR_men_BMI.max()\n",
    "print(\"IQR for BMI variable:\", IQR_men_BMI)\n",
    "print(\"Ratio between the largest and smallest IQR:\", (IQR_men_BMI.max()/IQR_men_BMI.min()).round(2))"
   ]
  },
  {
   "cell_type": "code",
   "execution_count": 265,
   "metadata": {},
   "outputs": [
    {
     "data": {
      "text/html": [
       "<div>\n",
       "<style scoped>\n",
       "    .dataframe tbody tr th:only-of-type {\n",
       "        vertical-align: middle;\n",
       "    }\n",
       "\n",
       "    .dataframe tbody tr th {\n",
       "        vertical-align: top;\n",
       "    }\n",
       "\n",
       "    .dataframe thead th {\n",
       "        text-align: right;\n",
       "    }\n",
       "</style>\n",
       "<table border=\"1\" class=\"dataframe\">\n",
       "  <thead>\n",
       "    <tr style=\"text-align: right;\">\n",
       "      <th></th>\n",
       "      <th>SDMVPSU</th>\n",
       "      <th>RIDAGEYR</th>\n",
       "      <th>BMXHT</th>\n",
       "      <th>BMXBMI</th>\n",
       "    </tr>\n",
       "  </thead>\n",
       "  <tbody>\n",
       "    <tr>\n",
       "      <th>3</th>\n",
       "      <td>1</td>\n",
       "      <td>56</td>\n",
       "      <td>160.9</td>\n",
       "      <td>42.4</td>\n",
       "    </tr>\n",
       "    <tr>\n",
       "      <th>4</th>\n",
       "      <td>2</td>\n",
       "      <td>42</td>\n",
       "      <td>164.9</td>\n",
       "      <td>20.3</td>\n",
       "    </tr>\n",
       "    <tr>\n",
       "      <th>5</th>\n",
       "      <td>1</td>\n",
       "      <td>72</td>\n",
       "      <td>150.0</td>\n",
       "      <td>28.6</td>\n",
       "    </tr>\n",
       "    <tr>\n",
       "      <th>7</th>\n",
       "      <td>1</td>\n",
       "      <td>32</td>\n",
       "      <td>151.3</td>\n",
       "      <td>28.2</td>\n",
       "    </tr>\n",
       "    <tr>\n",
       "      <th>12</th>\n",
       "      <td>1</td>\n",
       "      <td>30</td>\n",
       "      <td>163.6</td>\n",
       "      <td>26.6</td>\n",
       "    </tr>\n",
       "  </tbody>\n",
       "</table>\n",
       "</div>"
      ],
      "text/plain": [
       "    SDMVPSU  RIDAGEYR  BMXHT  BMXBMI\n",
       "3         1        56  160.9    42.4\n",
       "4         2        42  164.9    20.3\n",
       "5         1        72  150.0    28.6\n",
       "7         1        32  151.3    28.2\n",
       "12        1        30  163.6    26.6"
      ]
     },
     "execution_count": 265,
     "metadata": {},
     "output_type": "execute_result"
    }
   ],
   "source": [
    "# females, \"SDMVPSU\"\n",
    "fem_SDMVPSU=da.loc[da[\"RIAGENDRx\"] == \"Female\", [\"SDMVPSU\",\"RIDAGEYR\",\"BMXHT\",\"BMXBMI\"]]\n",
    "fem_SDMVPSU.head()"
   ]
  },
  {
   "cell_type": "code",
   "execution_count": 266,
   "metadata": {},
   "outputs": [
    {
     "name": "stdout",
     "output_type": "stream",
     "text": [
      "IQR for age variable: SDMVPSU\n",
      "1    30.0\n",
      "2    32.0\n",
      "Name: RIDAGEYR, dtype: float64\n",
      "Ratio between the largest and smallest IQR: 1.07\n"
     ]
    }
   ],
   "source": [
    "p_25fem_age_2=fem_SDMVPSU.groupby(\"SDMVPSU\")[\"RIDAGEYR\"].quantile(0.25)\n",
    "p_75fem_age_2=fem_SDMVPSU.groupby(\"SDMVPSU\")[\"RIDAGEYR\"].quantile(0.75)\n",
    "IQR_fem_age_2=p_75fem_age_2-p_25fem_age_2\n",
    "IQR_fem_age_2.max()\n",
    "print(\"IQR for age variable:\", IQR_fem_age_2)\n",
    "print(\"Ratio between the largest and smallest IQR:\", (IQR_fem_age_2.max()/IQR_fem_age_2.min()).round(2))"
   ]
  },
  {
   "cell_type": "code",
   "execution_count": 267,
   "metadata": {},
   "outputs": [
    {
     "name": "stdout",
     "output_type": "stream",
     "text": [
      "IQR for height variable: SDMVPSU\n",
      "1     9.7\n",
      "2    10.3\n",
      "Name: BMXHT, dtype: float64\n",
      "Ratio between the largest and smallest IQR: 1.06\n"
     ]
    }
   ],
   "source": [
    "p_25fem_height_2=fem_SDMVPSU.groupby(\"SDMVPSU\")[\"BMXHT\"].quantile(0.25)\n",
    "p_75fem_height_2=fem_SDMVPSU.groupby(\"SDMVPSU\")[\"BMXHT\"].quantile(0.75)\n",
    "IQR_fem_height_2=p_75fem_height_2-p_25fem_height_2\n",
    "IQR_fem_height_2.max()\n",
    "print(\"IQR for height variable:\", IQR_fem_height_2)\n",
    "print(\"Ratio between the largest and smallest IQR:\", (IQR_fem_height_2.max()/IQR_fem_height_2.min()).round(2))"
   ]
  },
  {
   "cell_type": "code",
   "execution_count": 271,
   "metadata": {},
   "outputs": [
    {
     "name": "stdout",
     "output_type": "stream",
     "text": [
      "IQR for BMI variable: SDMVPSU\n",
      "1     9.825\n",
      "2    10.200\n",
      "Name: BMXBMI, dtype: float64\n",
      "Ratio between the largest and smallest IQR: 1.04\n"
     ]
    }
   ],
   "source": [
    "p_25fem_BMI_2=fem_SDMVPSU.groupby(\"SDMVPSU\")[\"BMXBMI\"].quantile(0.25)\n",
    "p_75fem_BMI_2=fem_SDMVPSU.groupby(\"SDMVPSU\")[\"BMXBMI\"].quantile(0.75)\n",
    "IQR_fem_BMI_2=p_75fem_BMI_2-p_25fem_BMI_2\n",
    "IQR_fem_BMI_2.max()\n",
    "print(\"IQR for BMI variable:\", IQR_fem_BMI_2)\n",
    "print(\"Ratio between the largest and smallest IQR:\", (IQR_fem_BMI_2.max()/IQR_fem_BMI_2.min()).round(2))"
   ]
  },
  {
   "cell_type": "code",
   "execution_count": 269,
   "metadata": {},
   "outputs": [
    {
     "data": {
      "text/html": [
       "<div>\n",
       "<style scoped>\n",
       "    .dataframe tbody tr th:only-of-type {\n",
       "        vertical-align: middle;\n",
       "    }\n",
       "\n",
       "    .dataframe tbody tr th {\n",
       "        vertical-align: top;\n",
       "    }\n",
       "\n",
       "    .dataframe thead th {\n",
       "        text-align: right;\n",
       "    }\n",
       "</style>\n",
       "<table border=\"1\" class=\"dataframe\">\n",
       "  <thead>\n",
       "    <tr style=\"text-align: right;\">\n",
       "      <th></th>\n",
       "      <th>SDMVPSU</th>\n",
       "      <th>RIDAGEYR</th>\n",
       "      <th>BMXHT</th>\n",
       "      <th>BMXBMI</th>\n",
       "    </tr>\n",
       "  </thead>\n",
       "  <tbody>\n",
       "    <tr>\n",
       "      <th>0</th>\n",
       "      <td>1</td>\n",
       "      <td>62</td>\n",
       "      <td>184.5</td>\n",
       "      <td>27.8</td>\n",
       "    </tr>\n",
       "    <tr>\n",
       "      <th>1</th>\n",
       "      <td>1</td>\n",
       "      <td>53</td>\n",
       "      <td>171.4</td>\n",
       "      <td>30.8</td>\n",
       "    </tr>\n",
       "    <tr>\n",
       "      <th>2</th>\n",
       "      <td>1</td>\n",
       "      <td>78</td>\n",
       "      <td>170.1</td>\n",
       "      <td>28.8</td>\n",
       "    </tr>\n",
       "    <tr>\n",
       "      <th>6</th>\n",
       "      <td>2</td>\n",
       "      <td>22</td>\n",
       "      <td>165.4</td>\n",
       "      <td>28.0</td>\n",
       "    </tr>\n",
       "    <tr>\n",
       "      <th>8</th>\n",
       "      <td>2</td>\n",
       "      <td>18</td>\n",
       "      <td>166.1</td>\n",
       "      <td>26.2</td>\n",
       "    </tr>\n",
       "  </tbody>\n",
       "</table>\n",
       "</div>"
      ],
      "text/plain": [
       "   SDMVPSU  RIDAGEYR  BMXHT  BMXBMI\n",
       "0        1        62  184.5    27.8\n",
       "1        1        53  171.4    30.8\n",
       "2        1        78  170.1    28.8\n",
       "6        2        22  165.4    28.0\n",
       "8        2        18  166.1    26.2"
      ]
     },
     "execution_count": 269,
     "metadata": {},
     "output_type": "execute_result"
    }
   ],
   "source": [
    "# males, \"SDMVPSU\"\n",
    "men_SDMVPSU=da.loc[da[\"RIAGENDRx\"] == \"Male\", [\"SDMVPSU\",\"RIDAGEYR\",\"BMXHT\",\"BMXBMI\"]]\n",
    "men_SDMVPSU.head()"
   ]
  },
  {
   "cell_type": "code",
   "execution_count": 270,
   "metadata": {},
   "outputs": [
    {
     "name": "stdout",
     "output_type": "stream",
     "text": [
      "IQR for age variable: SDMVPSU\n",
      "1    32.0\n",
      "2    31.0\n",
      "Name: RIDAGEYR, dtype: float64\n",
      "Ratio between the largest and smallest IQR: 1.03\n"
     ]
    }
   ],
   "source": [
    "p_25men_age_2=men_SDMVPSU.groupby(\"SDMVPSU\")[\"RIDAGEYR\"].quantile(0.25)\n",
    "p_75men_age_2=men_SDMVPSU.groupby(\"SDMVPSU\")[\"RIDAGEYR\"].quantile(0.75)\n",
    "IQR_men_age_2=p_75men_age_2-p_25men_age_2\n",
    "IQR_men_age_2.max()\n",
    "print(\"IQR for age variable:\", IQR_men_age_2)\n",
    "print(\"Ratio between the largest and smallest IQR:\", (IQR_men_age_2.max()/IQR_men_age_2.min()).round(2))"
   ]
  },
  {
   "cell_type": "code",
   "execution_count": 272,
   "metadata": {},
   "outputs": [
    {
     "name": "stdout",
     "output_type": "stream",
     "text": [
      "IQR for height variable: SDMVPSU\n",
      "1    10.55\n",
      "2    10.20\n",
      "Name: BMXHT, dtype: float64\n",
      "Ratio between the largest and smallest IQR: 1.03\n"
     ]
    }
   ],
   "source": [
    "p_25men_height_2=men_SDMVPSU.groupby(\"SDMVPSU\")[\"BMXHT\"].quantile(0.25)\n",
    "p_75men_height_2=men_SDMVPSU.groupby(\"SDMVPSU\")[\"BMXHT\"].quantile(0.75)\n",
    "IQR_men_height_2=p_75men_height_2-p_25men_height_2\n",
    "IQR_men_height_2.max()\n",
    "print(\"IQR for height variable:\", IQR_men_height_2)\n",
    "print(\"Ratio between the largest and smallest IQR:\", (IQR_men_height_2.max()/IQR_men_height_2.min()).round(2))"
   ]
  },
  {
   "cell_type": "code",
   "execution_count": 273,
   "metadata": {},
   "outputs": [
    {
     "name": "stdout",
     "output_type": "stream",
     "text": [
      "IQR for BMI variable: SDMVPSU\n",
      "1    7.5\n",
      "2    7.3\n",
      "Name: BMXBMI, dtype: float64\n",
      "Ratio between the largest and smallest IQR: 1.03\n"
     ]
    }
   ],
   "source": [
    "p_25men_BMI_2=men_SDMVPSU.groupby(\"SDMVPSU\")[\"BMXBMI\"].quantile(0.25)\n",
    "p_75men_BMI_2=men_SDMVPSU.groupby(\"SDMVPSU\")[\"BMXBMI\"].quantile(0.75)\n",
    "IQR_men_BMI_2=p_75men_BMI_2-p_25men_BMI_2\n",
    "IQR_men_BMI_2.max()\n",
    "print(\"IQR for BMI variable:\", IQR_men_BMI_2)\n",
    "print(\"Ratio between the largest and smallest IQR:\", (IQR_men_BMI_2.max()/IQR_men_BMI_2.min()).round(2))"
   ]
  },
  {
   "cell_type": "markdown",
   "metadata": {},
   "source": [
    "__Q6c.__ Comment on the extent to which the IQR for age, height, and BMI vary among the MVUs."
   ]
  },
  {
   "cell_type": "raw",
   "metadata": {},
   "source": []
  }
 ],
 "metadata": {
  "kernelspec": {
   "display_name": "Python 3",
   "language": "python",
   "name": "python3"
  },
  "language_info": {
   "codemirror_mode": {
    "name": "ipython",
    "version": 3
   },
   "file_extension": ".py",
   "mimetype": "text/x-python",
   "name": "python",
   "nbconvert_exporter": "python",
   "pygments_lexer": "ipython3",
   "version": "3.7.3"
  }
 },
 "nbformat": 4,
 "nbformat_minor": 4
}
